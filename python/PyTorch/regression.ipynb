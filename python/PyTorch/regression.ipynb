{
 "cells": [
  {
   "cell_type": "markdown",
   "id": "c28fffa5-81b9-4eb1-a019-01479dcf7dd4",
   "metadata": {},
   "source": [
    "#### Regression"
   ]
  },
  {
   "cell_type": "markdown",
   "id": "09008b18-9fed-43f1-9490-b818e0ba9ebb",
   "metadata": {},
   "source": [
    "#### Step 1: Data Generation\n",
    "generate the target `y` using fixed random weights (`w` and `b`) through a formula\n",
    "\n",
    "Later, the model will receive `X` and `y` and try to **learn**(if the model can discover) those weights(the same relationship we used to create the data) by itself.   "
   ]
  },
  {
   "cell_type": "code",
   "execution_count": 2,
   "id": "678d0f94-59aa-4ea5-8b5c-63ebc36ecb81",
   "metadata": {},
   "outputs": [
    {
     "name": "stdout",
     "output_type": "stream",
     "text": [
      "2.4.1\n"
     ]
    },
    {
     "data": {
      "text/plain": [
       "<torch._C.Generator at 0x190823f63f0>"
      ]
     },
     "execution_count": 2,
     "metadata": {},
     "output_type": "execute_result"
    }
   ],
   "source": [
    "import torch\n",
    "print(torch.__version__)\n",
    "torch.manual_seed(1337)"
   ]
  },
  {
   "cell_type": "code",
   "execution_count": 3,
   "id": "cd4f6cda-3330-4d30-9099-6b8e929d2d4b",
   "metadata": {},
   "outputs": [],
   "source": [
    "import torch.nn as nn\n",
    "import torch.optim as optim"
   ]
  },
  {
   "cell_type": "code",
   "execution_count": 4,
   "id": "d9983c10-92fa-46b2-a669-a4bb49dcdd3b",
   "metadata": {},
   "outputs": [
    {
     "name": "stdout",
     "output_type": "stream",
     "text": [
      "w = tensor([[ 1.5318e+00],\n",
      "        [ 1.1253e-01],\n",
      "        [ 2.2517e+00],\n",
      "        [-1.4184e+00],\n",
      "        [ 9.8485e-01],\n",
      "        [ 3.4842e-01],\n",
      "        [-1.2332e+00],\n",
      "        [-1.5374e-03]])\n",
      "w.shape = torch.Size([8, 1])\n",
      "b = tensor([-1.2564])\n",
      "b.shape = torch.Size([1])\n"
     ]
    },
    {
     "data": {
      "text/plain": [
       "torch.Size([120, 1])"
      ]
     },
     "execution_count": 4,
     "metadata": {},
     "output_type": "execute_result"
    }
   ],
   "source": [
    "X=torch.randn(120,8)\n",
    "\n",
    "w=torch.randn(8,1)\n",
    "b=torch.randn(1)\n",
    "noise=torch.randn(120,1)*0.5\n",
    "y=X@w+b+noise\n",
    "\n",
    "print(\"w =\", w)\n",
    "print(\"w.shape =\", w.shape)\n",
    "\n",
    "print(\"b =\", b)\n",
    "print(\"b.shape =\", b.shape)\n",
    "\n",
    "y.shape"
   ]
  },
  {
   "cell_type": "markdown",
   "id": "85f9c62e-b03e-4d24-9d24-757759e3f0b3",
   "metadata": {},
   "source": [
    "In this task, we **simulate** data to test the model’s ability to learn.\n",
    "We first generate `y` = X @ w + b + noise using fixed random weights — so we already know the “true” `w` and `b`.\n",
    "The model then receives `(X, y)` and tries to **learn** those values on its own.\n",
    "\n",
    "In real-world tasks (e.g., predicting house prices), we already have both `X` and `y` from real data.\n",
    "The model doesn’t know the “true” weights — it just learns the best ones that fit the data.\n",
    "\n",
    "Whether in this task or in a real-world scenario, the principle is the same: once we have y, the model keeps adjusting its weights to minimize the difference between its predicted ŷ and the true y."
   ]
  },
  {
   "cell_type": "markdown",
   "id": "6bb187a0-1216-4ec1-a9dc-f36fe2c085b2",
   "metadata": {},
   "source": [
    "#### Step 2: Model Definition"
   ]
  },
  {
   "cell_type": "code",
   "execution_count": 5,
   "id": "0a0db70f-2598-4151-89a3-8be2b770c399",
   "metadata": {},
   "outputs": [],
   "source": [
    "class RevenueNet(nn.Module):\n",
    "    def __init__(self):\n",
    "        super(RevenueNet, self).__init__()\n",
    "        self.fc1 = nn.Linear(8, 16)  \n",
    "        self.fc2 = nn.Linear(16, 8)  \n",
    "        self.output = nn.Linear(8, 1)   \n",
    "        self.relu = nn.ReLU()            \n",
    "\n",
    "    def forward(self, x):\n",
    "        x = self.relu(self.fc1(x))\n",
    "        x = self.relu(self.fc2(x))\n",
    "        return self.output(x)"
   ]
  },
  {
   "cell_type": "code",
   "execution_count": 13,
   "id": "20f80279-6918-41eb-b305-6b3a5a5c6668",
   "metadata": {},
   "outputs": [
    {
     "name": "stdout",
     "output_type": "stream",
     "text": [
      "RevenueNet(\n",
      "  (fc1): Linear(in_features=8, out_features=16, bias=True)\n",
      "  (fc2): Linear(in_features=16, out_features=8, bias=True)\n",
      "  (output): Linear(in_features=8, out_features=1, bias=True)\n",
      "  (relu): ReLU()\n",
      ")\n"
     ]
    }
   ],
   "source": [
    "model = RevenueNet()\n",
    "print(model)"
   ]
  },
  {
   "cell_type": "code",
   "execution_count": 14,
   "id": "0175e948-de08-4333-8469-9eb5d2c4a8da",
   "metadata": {},
   "outputs": [],
   "source": [
    "loss_function = nn.MSELoss()              \n",
    "optimiser = optim.Adam(model.parameters(), lr=0.010)"
   ]
  },
  {
   "cell_type": "markdown",
   "id": "e404fe73-0df0-4e91-b578-79dfecad933e",
   "metadata": {},
   "source": [
    "#### Step 3: Model Setup"
   ]
  },
  {
   "cell_type": "markdown",
   "id": "5cd96813-59c2-49a7-b391-999defb34df5",
   "metadata": {},
   "source": [
    "In each training step, the model **substitutes X into the current parameters (w and b) to get the predicted y**.\n",
    "The first set of parameters (w, b) is randomly initialized(as above stored in the **variables w and b**).\n",
    "\n",
    "Like:(first set of parameters (w, b)(e.g., 0.3 and 0.5))\n",
    "| Stage          | w   | b   | Model Formula | Predicted y (ŷ)      | True y       | Loss   |\n",
    "| -------------- | --- | --- | ------------- | -------------------- | ------------ | ------ |\n",
    "| Initial        | 0.3 | 0.5 | 0.3x + 0.5    | [0.8, 1.1, 1.4, 1.7] | [3, 5, 7, 9] | 26.175 |\n",
    "| After Learning | 2.0 | 1.0 | 2x + 1        | [3, 5, 7, 9]         | [3, 5, 7, 9] | ≈ 0    |\n"
   ]
  },
  {
   "cell_type": "code",
   "execution_count": 18,
   "id": "4a346d8f-11fa-4dd7-bc9d-7a489a616ce4",
   "metadata": {},
   "outputs": [
    {
     "name": "stdout",
     "output_type": "stream",
     "text": [
      "Epoch 01 | Loss: 0.310246\n",
      "Epoch 02 | Loss: 0.299768\n",
      "Epoch 03 | Loss: 0.288715\n",
      "Epoch 04 | Loss: 0.277744\n",
      "Epoch 05 | Loss: 0.267216\n",
      "Epoch 06 | Loss: 0.257923\n",
      "Epoch 07 | Loss: 0.249868\n",
      "Epoch 08 | Loss: 0.242835\n",
      "Epoch 09 | Loss: 0.236250\n",
      "Epoch 10 | Loss: 0.231109\n",
      "Epoch 11 | Loss: 0.226990\n",
      "Epoch 12 | Loss: 0.223221\n",
      "Epoch 13 | Loss: 0.220929\n",
      "Epoch 14 | Loss: 0.219116\n",
      "Epoch 15 | Loss: 0.216527\n",
      "Epoch 16 | Loss: 0.212570\n",
      "Epoch 17 | Loss: 0.207882\n",
      "Epoch 18 | Loss: 0.203416\n",
      "Epoch 19 | Loss: 0.199582\n",
      "Epoch 20 | Loss: 0.196699\n",
      "Epoch 21 | Loss: 0.194466\n",
      "Epoch 22 | Loss: 0.192481\n",
      "Epoch 23 | Loss: 0.190410\n",
      "Epoch 24 | Loss: 0.188214\n",
      "Epoch 25 | Loss: 0.186197\n",
      "Epoch 26 | Loss: 0.184753\n",
      "Epoch 27 | Loss: 0.183196\n",
      "Epoch 28 | Loss: 0.181316\n",
      "Epoch 29 | Loss: 0.179379\n",
      "Epoch 30 | Loss: 0.177412\n"
     ]
    }
   ],
   "source": [
    "epochs = 30\n",
    "losses = []\n",
    "\n",
    "for epoch in range(epochs):\n",
    "    optimiser.zero_grad()\n",
    "    y_pred = model(X)\n",
    "    loss = loss_function(y_pred, y)\n",
    "    \n",
    "    loss.backward()\n",
    "    optimiser.step()\n",
    "    \n",
    "    losses.append(loss.item())\n",
    "    print(f\"Epoch {epoch+1:02d} | Loss: {loss.item():.6f}\")"
   ]
  },
  {
   "cell_type": "code",
   "execution_count": 19,
   "id": "c4e5e53d-bf19-4dc2-9d6d-51fa773d4ee1",
   "metadata": {},
   "outputs": [
    {
     "data": {
      "image/png": "[encoded data removed]",
      "text/plain": [
       "<Figure size 640x480 with 1 Axes>"
      ]
     },
     "metadata": {},
     "output_type": "display_data"
    }
   ],
   "source": [
    "import matplotlib.pyplot as plt\n",
    "plt.plot(range(1, epochs+1), losses)  # plot(x,y)\n",
    "plt.xlabel(\"Epoch\")\n",
    "plt.ylabel(\"Loss\")\n",
    "plt.title(\"Training Loss Across Epochs\")\n",
    "plt.show()"
   ]
  },
  {
   "cell_type": "code",
   "execution_count": null,
   "id": "3db78e3c-fd0f-4df3-90a6-1f7a083607f6",
   "metadata": {},
   "outputs": [],
   "source": []
  }
 ],
 "metadata": {
  "kernelspec": {
   "display_name": "Python (pytorch_lab_env)",
   "language": "python",
   "name": "pytorch_env"
  },
  "language_info": {
   "codemirror_mode": {
    "name": "ipython",
    "version": 3
   },
   "file_extension": ".py",
   "mimetype": "text/x-python",
   "name": "python",
   "nbconvert_exporter": "python",
   "pygments_lexer": "ipython3",
   "version": "3.8.20"
  }
 },
 "nbformat": 4,
 "nbformat_minor": 5
}
