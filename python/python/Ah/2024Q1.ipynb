{
 "cells": [
  {
   "cell_type": "code",
   "execution_count": 1,
   "id": "1e7c6087-bc17-4d7b-956f-6a9878cf0d60",
   "metadata": {},
   "outputs": [
    {
     "data": {
      "text/html": [
       "<div>\n",
       "<style scoped>\n",
       "    .dataframe tbody tr th:only-of-type {\n",
       "        vertical-align: middle;\n",
       "    }\n",
       "\n",
       "    .dataframe tbody tr th {\n",
       "        vertical-align: top;\n",
       "    }\n",
       "\n",
       "    .dataframe thead th {\n",
       "        text-align: right;\n",
       "    }\n",
       "</style>\n",
       "<table border=\"1\" class=\"dataframe\">\n",
       "  <thead>\n",
       "    <tr style=\"text-align: right;\">\n",
       "      <th></th>\n",
       "      <th>Date</th>\n",
       "      <th>Product</th>\n",
       "      <th>Quantity</th>\n",
       "      <th>Price</th>\n",
       "      <th>Total</th>\n",
       "    </tr>\n",
       "  </thead>\n",
       "  <tbody>\n",
       "    <tr>\n",
       "      <th>0</th>\n",
       "      <td>2023-01-01</td>\n",
       "      <td>Chocolate</td>\n",
       "      <td>5</td>\n",
       "      <td>10.0</td>\n",
       "      <td>50.0</td>\n",
       "    </tr>\n",
       "    <tr>\n",
       "      <th>1</th>\n",
       "      <td>2023-01-02</td>\n",
       "      <td>Biscuits</td>\n",
       "      <td>7</td>\n",
       "      <td>20.0</td>\n",
       "      <td>140.0</td>\n",
       "    </tr>\n",
       "    <tr>\n",
       "      <th>2</th>\n",
       "      <td>2023-01-03</td>\n",
       "      <td>Sweets</td>\n",
       "      <td>9</td>\n",
       "      <td>15.0</td>\n",
       "      <td>135.0</td>\n",
       "    </tr>\n",
       "    <tr>\n",
       "      <th>3</th>\n",
       "      <td>2023-01-04</td>\n",
       "      <td>Water</td>\n",
       "      <td>3</td>\n",
       "      <td>7.5</td>\n",
       "      <td>22.5</td>\n",
       "    </tr>\n",
       "    <tr>\n",
       "      <th>4</th>\n",
       "      <td>2023-01-05</td>\n",
       "      <td>Orange Juice</td>\n",
       "      <td>8</td>\n",
       "      <td>12.5</td>\n",
       "      <td>100.0</td>\n",
       "    </tr>\n",
       "    <tr>\n",
       "      <th>...</th>\n",
       "      <td>...</td>\n",
       "      <td>...</td>\n",
       "      <td>...</td>\n",
       "      <td>...</td>\n",
       "      <td>...</td>\n",
       "    </tr>\n",
       "    <tr>\n",
       "      <th>146</th>\n",
       "      <td>2022-04-06</td>\n",
       "      <td>NaN</td>\n",
       "      <td>5</td>\n",
       "      <td>10.0</td>\n",
       "      <td>50.0</td>\n",
       "    </tr>\n",
       "    <tr>\n",
       "      <th>147</th>\n",
       "      <td>2022-04-07</td>\n",
       "      <td>Biscuits</td>\n",
       "      <td>7</td>\n",
       "      <td>20.0</td>\n",
       "      <td>140.0</td>\n",
       "    </tr>\n",
       "    <tr>\n",
       "      <th>148</th>\n",
       "      <td>2022-04-08</td>\n",
       "      <td>Sweets</td>\n",
       "      <td>9</td>\n",
       "      <td>15.0</td>\n",
       "      <td>135.0</td>\n",
       "    </tr>\n",
       "    <tr>\n",
       "      <th>149</th>\n",
       "      <td>2022-04-09</td>\n",
       "      <td>Water</td>\n",
       "      <td>3</td>\n",
       "      <td>7.5</td>\n",
       "      <td>22.5</td>\n",
       "    </tr>\n",
       "    <tr>\n",
       "      <th>150</th>\n",
       "      <td>2022-04-10</td>\n",
       "      <td>Orange Juice</td>\n",
       "      <td>8</td>\n",
       "      <td>12.5</td>\n",
       "      <td>100.0</td>\n",
       "    </tr>\n",
       "  </tbody>\n",
       "</table>\n",
       "<p>151 rows × 5 columns</p>\n",
       "</div>"
      ],
      "text/plain": [
       "          Date       Product  Quantity  Price  Total\n",
       "0   2023-01-01     Chocolate         5   10.0   50.0\n",
       "1   2023-01-02      Biscuits         7   20.0  140.0\n",
       "2   2023-01-03        Sweets         9   15.0  135.0\n",
       "3   2023-01-04         Water         3    7.5   22.5\n",
       "4   2023-01-05  Orange Juice         8   12.5  100.0\n",
       "..         ...           ...       ...    ...    ...\n",
       "146 2022-04-06           NaN         5   10.0   50.0\n",
       "147 2022-04-07      Biscuits         7   20.0  140.0\n",
       "148 2022-04-08        Sweets         9   15.0  135.0\n",
       "149 2022-04-09         Water         3    7.5   22.5\n",
       "150 2022-04-10  Orange Juice         8   12.5  100.0\n",
       "\n",
       "[151 rows x 5 columns]"
      ]
     },
     "execution_count": 1,
     "metadata": {},
     "output_type": "execute_result"
    }
   ],
   "source": [
    "import pandas as pd\n",
    "import numpy as np\n",
    "\n",
    "df = pd.read_csv(\"sales_data.csv\", parse_dates=['Date'], dayfirst=True)\n",
    "df"
   ]
  },
  {
   "cell_type": "code",
   "execution_count": 2,
   "id": "6d929ef9-c703-4af9-bc9e-499ee97cf0b5",
   "metadata": {},
   "outputs": [
    {
     "data": {
      "text/html": [
       "<div>\n",
       "<style scoped>\n",
       "    .dataframe tbody tr th:only-of-type {\n",
       "        vertical-align: middle;\n",
       "    }\n",
       "\n",
       "    .dataframe tbody tr th {\n",
       "        vertical-align: top;\n",
       "    }\n",
       "\n",
       "    .dataframe thead th {\n",
       "        text-align: right;\n",
       "    }\n",
       "</style>\n",
       "<table border=\"1\" class=\"dataframe\">\n",
       "  <thead>\n",
       "    <tr style=\"text-align: right;\">\n",
       "      <th></th>\n",
       "      <th>Date</th>\n",
       "      <th>Product</th>\n",
       "      <th>Quantity</th>\n",
       "      <th>Price</th>\n",
       "      <th>Total</th>\n",
       "    </tr>\n",
       "  </thead>\n",
       "  <tbody>\n",
       "    <tr>\n",
       "      <th>0</th>\n",
       "      <td>2023-01-01</td>\n",
       "      <td>Chocolate</td>\n",
       "      <td>5</td>\n",
       "      <td>10.0</td>\n",
       "      <td>50.0</td>\n",
       "    </tr>\n",
       "    <tr>\n",
       "      <th>1</th>\n",
       "      <td>2023-01-02</td>\n",
       "      <td>Biscuits</td>\n",
       "      <td>7</td>\n",
       "      <td>20.0</td>\n",
       "      <td>140.0</td>\n",
       "    </tr>\n",
       "    <tr>\n",
       "      <th>2</th>\n",
       "      <td>2023-01-03</td>\n",
       "      <td>Sweets</td>\n",
       "      <td>9</td>\n",
       "      <td>15.0</td>\n",
       "      <td>135.0</td>\n",
       "    </tr>\n",
       "    <tr>\n",
       "      <th>3</th>\n",
       "      <td>2023-01-04</td>\n",
       "      <td>Water</td>\n",
       "      <td>3</td>\n",
       "      <td>7.5</td>\n",
       "      <td>22.5</td>\n",
       "    </tr>\n",
       "    <tr>\n",
       "      <th>4</th>\n",
       "      <td>2023-01-05</td>\n",
       "      <td>Orange Juice</td>\n",
       "      <td>8</td>\n",
       "      <td>12.5</td>\n",
       "      <td>100.0</td>\n",
       "    </tr>\n",
       "    <tr>\n",
       "      <th>...</th>\n",
       "      <td>...</td>\n",
       "      <td>...</td>\n",
       "      <td>...</td>\n",
       "      <td>...</td>\n",
       "      <td>...</td>\n",
       "    </tr>\n",
       "    <tr>\n",
       "      <th>146</th>\n",
       "      <td>2022-04-06</td>\n",
       "      <td>Unknown</td>\n",
       "      <td>5</td>\n",
       "      <td>10.0</td>\n",
       "      <td>50.0</td>\n",
       "    </tr>\n",
       "    <tr>\n",
       "      <th>147</th>\n",
       "      <td>2022-04-07</td>\n",
       "      <td>Biscuits</td>\n",
       "      <td>7</td>\n",
       "      <td>20.0</td>\n",
       "      <td>140.0</td>\n",
       "    </tr>\n",
       "    <tr>\n",
       "      <th>148</th>\n",
       "      <td>2022-04-08</td>\n",
       "      <td>Sweets</td>\n",
       "      <td>9</td>\n",
       "      <td>15.0</td>\n",
       "      <td>135.0</td>\n",
       "    </tr>\n",
       "    <tr>\n",
       "      <th>149</th>\n",
       "      <td>2022-04-09</td>\n",
       "      <td>Water</td>\n",
       "      <td>3</td>\n",
       "      <td>7.5</td>\n",
       "      <td>22.5</td>\n",
       "    </tr>\n",
       "    <tr>\n",
       "      <th>150</th>\n",
       "      <td>2022-04-10</td>\n",
       "      <td>Orange Juice</td>\n",
       "      <td>8</td>\n",
       "      <td>12.5</td>\n",
       "      <td>100.0</td>\n",
       "    </tr>\n",
       "  </tbody>\n",
       "</table>\n",
       "<p>151 rows × 5 columns</p>\n",
       "</div>"
      ],
      "text/plain": [
       "          Date       Product  Quantity  Price  Total\n",
       "0   2023-01-01     Chocolate         5   10.0   50.0\n",
       "1   2023-01-02      Biscuits         7   20.0  140.0\n",
       "2   2023-01-03        Sweets         9   15.0  135.0\n",
       "3   2023-01-04         Water         3    7.5   22.5\n",
       "4   2023-01-05  Orange Juice         8   12.5  100.0\n",
       "..         ...           ...       ...    ...    ...\n",
       "146 2022-04-06       Unknown         5   10.0   50.0\n",
       "147 2022-04-07      Biscuits         7   20.0  140.0\n",
       "148 2022-04-08        Sweets         9   15.0  135.0\n",
       "149 2022-04-09         Water         3    7.5   22.5\n",
       "150 2022-04-10  Orange Juice         8   12.5  100.0\n",
       "\n",
       "[151 rows x 5 columns]"
      ]
     },
     "execution_count": 2,
     "metadata": {},
     "output_type": "execute_result"
    }
   ],
   "source": [
    "rpl_dict = {\n",
    "    \"Product\": \"Unknown\",\n",
    "    \"Quantity\": 0,\n",
    "    \"Price\": 0.0,\n",
    "    \"Total\": 0.0,\n",
    "}\n",
    "df = df.replace(np.nan, rpl_dict)\n",
    "df[\"Total\"] = df[\"Quantity\"] * df[\"Price\"]\n",
    "df"
   ]
  },
  {
   "cell_type": "code",
   "execution_count": 3,
   "id": "d4c85767-b550-4e5f-a7b8-67dd168410d1",
   "metadata": {},
   "outputs": [
    {
     "data": {
      "image/png": "[encoded data removed]",
      "text/plain": [
       "<Figure size 640x480 with 1 Axes>"
      ]
     },
     "metadata": {},
     "output_type": "display_data"
    }
   ],
   "source": [
    "import matplotlib.pyplot as plt\n",
    "product_sales = df.groupby('Product')['Quantity'].sum()\n",
    "product_sales.plot(kind='bar')\n",
    "plt.show()"
   ]
  },
  {
   "cell_type": "code",
   "execution_count": 4,
   "id": "98f03426-b56b-4626-b9c1-a6ac85897fb0",
   "metadata": {},
   "outputs": [
    {
     "data": {
      "image/png": "[encoded data removed]",
      "text/plain": [
       "<Figure size 640x480 with 1 Axes>"
      ]
     },
     "metadata": {},
     "output_type": "display_data"
    }
   ],
   "source": [
    "df['Month'] = df['Date'].dt.to_period('M')\n",
    "monthly_sales = df.groupby('Month')['Total'].sum()\n",
    "monthly_sales.plot(kind='line')\n",
    "plt.show()"
   ]
  },
  {
   "cell_type": "code",
   "execution_count": 29,
   "id": "da0703d5-55ae-4744-9e3a-64a7f2f80369",
   "metadata": {},
   "outputs": [],
   "source": [
    "df.to_csv(\"cleaned_sales_data.csv\")"
   ]
  },
  {
   "cell_type": "code",
   "execution_count": 50,
   "id": "e82dabaa-bf7a-4f43-a8ed-87dd72d6fd4a",
   "metadata": {},
   "outputs": [
    {
     "name": "stdout",
     "output_type": "stream",
     "text": [
      "2.3.0\n"
     ]
    },
    {
     "data": {
      "text/plain": [
       "<torch._C.Generator at 0x21986321fb0>"
      ]
     },
     "execution_count": 50,
     "metadata": {},
     "output_type": "execute_result"
    }
   ],
   "source": [
    "import torch\n",
    "print(torch.__version__)\n",
    "torch.manual_seed(1337)"
   ]
  },
  {
   "cell_type": "code",
   "execution_count": 51,
   "id": "41e83431",
   "metadata": {},
   "outputs": [],
   "source": [
    "import torch.nn as nn\n",
    "import torch.optim as optim"
   ]
  },
  {
   "cell_type": "code",
   "execution_count": 52,
   "id": "5dee94cf-240c-4cca-88fa-aa900f34f332",
   "metadata": {},
   "outputs": [
    {
     "data": {
      "text/plain": [
       "torch.Size([120, 8])"
      ]
     },
     "execution_count": 52,
     "metadata": {},
     "output_type": "execute_result"
    }
   ],
   "source": [
    "X = torch.randn(120, 8)\n",
    "w = torch.randn(8,1)\n",
    "b = torch.tensor(1)\n",
    "noise = 0.5 * torch.randn(120,1)\n",
    "X.shape"
   ]
  },
  {
   "cell_type": "code",
   "execution_count": 53,
   "id": "5a026d7b-4601-4b96-ad0d-902fdbc39905",
   "metadata": {},
   "outputs": [],
   "source": [
    "y = X @ w + b + noise"
   ]
  },
  {
   "cell_type": "code",
   "execution_count": 54,
   "id": "d44a3086-a4cb-4cf2-97bb-05fea21caae4",
   "metadata": {},
   "outputs": [
    {
     "data": {
      "text/plain": [
       "torch.Size([120, 1])"
      ]
     },
     "execution_count": 54,
     "metadata": {},
     "output_type": "execute_result"
    }
   ],
   "source": [
    "y.shape"
   ]
  },
  {
   "cell_type": "code",
   "execution_count": 59,
   "id": "ad19cba1-215a-42c9-8aae-39559e31474c",
   "metadata": {},
   "outputs": [],
   "source": [
    "class RevenueNet(nn.Module):\n",
    "    def __init__(self, *args, **kwargs):\n",
    "        super(RevenueNet, self).__init__()\n",
    "        self.fc1 = nn.Linear(8,16)\n",
    "        self.fc2 = nn.Linear(16,8)\n",
    "        self.output = nn.Linear(8,1)\n",
    "    \n",
    "    def forward(self, x):\n",
    "        x = torch.relu(self.fc1(x))\n",
    "        x = torch.relu(self.fc2(x))\n",
    "        return self.output(x)"
   ]
  },
  {
   "cell_type": "code",
   "execution_count": 60,
   "id": "0ba88441",
   "metadata": {},
   "outputs": [
    {
     "data": {
      "text/plain": [
       "RevenueNet(\n",
       "  (fc1): Linear(in_features=8, out_features=16, bias=True)\n",
       "  (fc2): Linear(in_features=16, out_features=8, bias=True)\n",
       "  (output): Linear(in_features=8, out_features=1, bias=True)\n",
       ")"
      ]
     },
     "execution_count": 60,
     "metadata": {},
     "output_type": "execute_result"
    }
   ],
   "source": [
    "model = RevenueNet()\n",
    "model"
   ]
  },
  {
   "cell_type": "code",
   "execution_count": 61,
   "id": "d4dc4d1d",
   "metadata": {},
   "outputs": [],
   "source": [
    "loss_function = nn.MSELoss()\n",
    "optimiser = optim.Adam(model.parameters(), lr=0.010)"
   ]
  },
  {
   "cell_type": "code",
   "execution_count": null,
   "id": "9667f731",
   "metadata": {},
   "outputs": [
    {
     "name": "stdout",
     "output_type": "stream",
     "text": [
      "Epoch 1, Loss: 13.279754638671875\n",
      "Epoch 2, Loss: 13.064250946044922\n",
      "Epoch 3, Loss: 12.866132736206055\n",
      "Epoch 4, Loss: 12.680414199829102\n",
      "Epoch 5, Loss: 12.495415687561035\n",
      "Epoch 6, Loss: 12.302064895629883\n",
      "Epoch 7, Loss: 12.089672088623047\n",
      "Epoch 8, Loss: 11.85162353515625\n",
      "Epoch 9, Loss: 11.585268020629883\n",
      "Epoch 10, Loss: 11.283839225769043\n",
      "Epoch 11, Loss: 10.93898868560791\n",
      "Epoch 12, Loss: 10.552292823791504\n",
      "Epoch 13, Loss: 10.118773460388184\n",
      "Epoch 14, Loss: 9.64091968536377\n",
      "Epoch 15, Loss: 9.116408348083496\n",
      "Epoch 16, Loss: 8.545058250427246\n",
      "Epoch 17, Loss: 7.930937767028809\n",
      "Epoch 18, Loss: 7.27827262878418\n",
      "Epoch 19, Loss: 6.59138298034668\n",
      "Epoch 20, Loss: 5.879810810089111\n",
      "Epoch 21, Loss: 5.153405666351318\n",
      "Epoch 22, Loss: 4.426554203033447\n",
      "Epoch 23, Loss: 3.7201359272003174\n",
      "Epoch 24, Loss: 3.0542993545532227\n",
      "Epoch 25, Loss: 2.454895496368408\n",
      "Epoch 26, Loss: 1.9487035274505615\n",
      "Epoch 27, Loss: 1.5622692108154297\n",
      "Epoch 28, Loss: 1.3158206939697266\n",
      "Epoch 29, Loss: 1.2106335163116455\n",
      "Epoch 30, Loss: 1.2148516178131104\n"
     ]
    }
   ],
   "source": [
    "running_loss = 0.0\n",
    "for epoch in range(30):\n",
    "    optimiser.zero_grad()\n",
    "    outputs = model(X)\n",
    "    loss = loss_function(outputs, y)\n",
    "    loss.backward()\n",
    "    optimiser.step()\n",
    "\n",
    "    # running_loss += loss.item()\n",
    "    print(f\"Epoch {epoch + 1}, Loss: {loss.item()}\")"
   ]
  },
  {
   "cell_type": "code",
   "execution_count": null,
   "id": "85a7a958",
   "metadata": {},
   "outputs": [],
   "source": []
  },
  {
   "cell_type": "code",
   "execution_count": null,
   "id": "5d038447",
   "metadata": {},
   "outputs": [],
   "source": []
  }
 ],
 "metadata": {
  "kernelspec": {
   "display_name": "Python 3 (ipykernel)",
   "language": "python",
   "name": "python3"
  },
  "language_info": {
   "codemirror_mode": {
    "name": "ipython",
    "version": 3
   },
   "file_extension": ".py",
   "mimetype": "text/x-python",
   "name": "python",
   "nbconvert_exporter": "python",
   "pygments_lexer": "ipython3",
   "version": "3.8.20"
  }
 },
 "nbformat": 4,
 "nbformat_minor": 5
}
