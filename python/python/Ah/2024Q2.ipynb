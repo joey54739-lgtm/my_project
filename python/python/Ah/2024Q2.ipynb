{
 "cells": [
  {
   "cell_type": "code",
   "execution_count": 1,
   "id": "a451879a-11e9-4b90-868e-e0f15fce107b",
   "metadata": {},
   "outputs": [],
   "source": [
    "import sqlite3 as sql"
   ]
  },
  {
   "cell_type": "code",
   "execution_count": 2,
   "id": "1683fe9d-53a2-41e6-bbdc-8a2eff6dc0cc",
   "metadata": {},
   "outputs": [],
   "source": [
    "with sql.connect(\"SalesDB.db\") as db:\n",
    "    cursor = db.cursor()\n",
    "\n",
    "    cursor.execute(\"\"\"\n",
    "        CREATE TABLE IF NOT EXISTS Sales(\n",
    "            Date DATE,\n",
    "            Product text,\n",
    "            Quantity int,\n",
    "            Price MONEY(10,5),\n",
    "            Total MONEY(10,5)\n",
    "        );\n",
    "    \"\"\")\n",
    "    db.commit()"
   ]
  },
  {
   "cell_type": "code",
   "execution_count": 3,
   "id": "b688424d-2b42-4f69-b52d-0581e83192fb",
   "metadata": {},
   "outputs": [
    {
     "name": "stdout",
     "output_type": "stream",
     "text": [
      "[('2023-01-01', 'Chocolate', 5, 10.0, 50.0), ('2023-01-02', 'Biscuits', 7, 20.0, 140.0), ('2023-01-03', 'Sweets', 9, 15.0, 135.0), ('2023-01-04', 'Water', 3, 7.5, 22.5), ('2023-01-05', 'Orange Juice', 8, 12.5, 100.0), ('2023-01-06', 'Chocolate', 5, 10.0, 50.0), ('2023-01-07', 'Biscuits', 7, 20.0, 140.0), ('2023-01-08', 'Sweets', 9, 15.0, 135.0), ('2023-01-09', 'Water', 3, 7.5, 22.5), ('2023-01-10', 'Orange Juice', 8, 12.5, 100.0), ('2023-01-11', 'Chocolate', 5, 10.0, 50.0), ('2023-01-12', 'Biscuits', 7, 20.0, 140.0), ('2023-01-13', 'Sweets', 9, 15.0, 135.0), ('2023-01-14', 'Water', 3, 7.5, 22.5), ('2023-01-15', 'Orange Juice', 8, 12.5, 100.0), ('2023-01-16', 'Chocolate', 5, 10.0, 50.0), ('2023-01-17', 'Biscuits', 7, 20.0, 140.0), ('2023-01-18', 'Sweets', 9, 15.0, 135.0), ('2023-01-19', 'Water', 3, 7.5, 22.5), ('2023-01-20', 'Orange Juice', 8, 12.5, 100.0), ('2023-01-21', 'Chocolate', 5, 10.0, 50.0), ('2023-01-22', 'Biscuits', 7, 20.0, 140.0), ('2023-01-23', 'Sweets', 9, 15.0, 135.0), ('2023-01-24', 'Water', 3, 7.5, 22.5), ('2023-01-25', 'Orange Juice', 8, 12.5, 100.0), ('2023-01-26', 'Chocolate', 5, 10.0, 50.0), ('2023-01-27', 'Biscuits', 7, 20.0, 140.0), ('2023-01-28', 'Sweets', 9, 15.0, 135.0), ('2023-01-29', 'Water', 3, 7.5, 22.5), ('2023-01-30', 'Orange Juice', 8, 12.5, 100.0), ('2023-01-31', 'Chocolate', 5, 10.0, 50.0), ('2023-02-01', 'Biscuits', 7, 20.0, 140.0), ('2023-02-02', 'Sweets', 9, 15.0, 135.0), ('2023-02-03', 'Water', 3, 7.5, 22.5), ('2023-02-04', 'Orange Juice', 8, 12.5, 100.0), ('2023-02-05', 'Chocolate', 5, 10.0, 50.0), ('2023-02-06', 'Biscuits', 7, 20.0, 140.0), ('2023-02-07', 'Sweets', 9, 15.0, 135.0), ('2023-02-08', 'Water', 3, 7.5, 22.5), ('2023-02-09', 'Orange Juice', 8, 12.5, 100.0), ('2023-02-10', 'Chocolate', 5, 10.0, 50.0), ('2023-02-11', 'Biscuits', 7, 20.0, 140.0), ('2023-02-12', 'Sweets', 9, 15.0, 135.0), ('2023-02-13', 'Water', 3, 7.5, 22.5), ('2023-02-14', 'Orange Juice', 8, 12.5, 100.0), ('2023-02-15', 'Chocolate', 5, 10.0, 50.0), ('2023-02-16', 'Biscuits', 7, 20.0, 140.0), ('2023-02-17', 'Sweets', 9, 15.0, 135.0), ('2023-02-18', 'Water', 3, 7.5, 22.5), ('2023-02-19', 'Orange Juice', 8, 12.5, 100.0), ('2023-02-20', 'Chocolate', 5, 10.0, 50.0), ('2023-02-21', 'Biscuits', 7, 20.0, 140.0), ('2023-02-22', 'Sweets', 9, 15.0, 135.0), ('2023-02-23', 'Water', 3, 7.5, 22.5), ('2023-02-24', 'Unknown', 8, 12.5, 100.0), ('2023-02-25', 'Chocolate', 5, 10.0, 50.0), ('2023-02-26', 'Biscuits', 7, 20.0, 140.0), ('2023-02-27', 'Sweets', 9, 15.0, 135.0), ('2023-02-28', 'Water', 3, 7.5, 22.5), ('2023-03-01', 'Orange Juice', 8, 12.5, 100.0), ('2023-03-02', 'Chocolate', 5, 10.0, 50.0), ('2023-03-03', 'Biscuits', 7, 20.0, 140.0), ('2023-03-04', 'Sweets', 9, 15.0, 135.0), ('2023-03-05', 'Water', 3, 7.5, 22.5), ('2023-03-06', 'Orange Juice', 8, 12.5, 100.0), ('2023-03-07', 'Chocolate', 5, 10.0, 50.0), ('2023-03-08', 'Biscuits', 7, 20.0, 140.0), ('2023-03-09', 'Sweets', 9, 15.0, 135.0), ('2023-03-10', 'Water', 3, 7.5, 22.5), ('2023-03-11', 'Orange Juice', 8, 12.5, 100.0), ('2023-03-12', 'Chocolate', 5, 0.0, 0.0), ('2023-03-13', 'Biscuits', 7, 20.0, 140.0), ('2023-03-14', 'Sweets', 9, 15.0, 135.0), ('2023-03-15', 'Water', 3, 7.5, 22.5), ('2023-03-16', 'Orange Juice', 8, 12.5, 100.0), ('2023-03-17', 'Chocolate', 5, 10.0, 50.0), ('2023-03-18', 'Biscuits', 7, 20.0, 140.0), ('2023-03-19', 'Sweets', 9, 15.0, 135.0), ('2023-03-20', 'Water', 3, 7.5, 22.5), ('2023-03-21', 'Orange Juice', 8, 12.5, 100.0), ('2023-03-22', 'Chocolate', 5, 10.0, 50.0), ('2023-03-23', 'Biscuits', 7, 20.0, 140.0), ('2023-03-24', 'Sweets', 9, 15.0, 135.0), ('2023-03-25', 'Water', 3, 7.5, 22.5), ('2023-03-26', 'Orange Juice', 8, 12.5, 100.0), ('2023-03-27', 'Unknown', 5, 10.0, 50.0), ('2023-03-28', 'Biscuits', 7, 20.0, 140.0), ('2023-03-29', 'Sweets', 9, 15.0, 135.0), ('2023-03-30', 'Water', 3, 7.5, 22.5), ('2023-03-31', 'Orange Juice', 8, 12.5, 100.0), ('2023-04-01', 'Chocolate', 5, 10.0, 50.0), ('2023-04-02', 'Biscuits', 7, 20.0, 140.0), ('2023-04-03', 'Sweets', 9, 15.0, 135.0), ('2023-04-04', 'Water', 3, 7.5, 22.5), ('2023-04-05', 'Orange Juice', 8, 12.5, 100.0), ('2023-04-06', 'Chocolate', 5, 10.0, 50.0), ('2023-04-07', 'Biscuits', 7, 20.0, 140.0), ('2023-04-08', 'Sweets', 9, 15.0, 135.0), ('2023-04-09', 'Water', 3, 7.5, 22.5), ('2023-04-10', 'Orange Juice', 8, 12.5, 100.0), ('2024-03-20', 'Water', 3, 7.5, 22.5), ('2024-03-21', 'Orange Juice', 8, 12.5, 100.0), ('2024-03-22', 'Chocolate', 5, 10.0, 50.0), ('2024-03-23', 'Biscuits', 7, 20.0, 140.0), ('2024-03-24', 'Sweets', 9, 15.0, 135.0), ('2024-03-25', 'Water', 3, 7.5, 22.5), ('2024-03-26', 'Orange Juice', 8, 12.5, 100.0), ('2024-03-27', 'Unknown', 5, 10.0, 50.0), ('2024-03-28', 'Biscuits', 7, 20.0, 140.0), ('2024-03-29', 'Sweets', 9, 15.0, 135.0), ('2024-03-30', 'Water', 3, 7.5, 22.5), ('2024-03-31', 'Orange Juice', 8, 12.5, 100.0), ('2024-04-01', 'Chocolate', 5, 10.0, 50.0), ('2024-04-02', 'Biscuits', 7, 20.0, 140.0), ('2024-04-03', 'Sweets', 9, 15.0, 135.0), ('2024-04-04', 'Water', 3, 7.5, 22.5), ('2024-04-05', 'Orange Juice', 8, 12.5, 100.0), ('2024-04-06', 'Unknown', 5, 10.0, 50.0), ('2024-04-07', 'Biscuits', 7, 20.0, 140.0), ('2024-04-08', 'Sweets', 9, 15.0, 135.0), ('2024-04-09', 'Water', 3, 7.5, 22.5), ('2024-04-10', 'Orange Juice', 8, 12.5, 100.0), ('2022-04-04', 'Water', 3, 7.5, 22.5), ('2022-04-05', 'Orange Juice', 8, 12.5, 100.0), ('2022-04-06', 'Chocolate', 5, 10.0, 50.0), ('2022-04-07', 'Biscuits', 7, 20.0, 140.0), ('2022-04-08', 'Sweets', 9, 15.0, 135.0), ('2022-04-09', 'Water', 3, 7.5, 22.5), ('2022-04-10', 'Orange Juice', 8, 12.5, 100.0), ('2022-03-20', 'Water', 3, 7.5, 22.5), ('2022-03-21', 'Orange Juice', 8, 12.5, 100.0), ('2022-03-22', 'Chocolate', 5, 10.0, 50.0), ('2022-03-23', 'Biscuits', 7, 20.0, 140.0), ('2022-03-24', 'Sweets', 9, 15.0, 135.0), ('2022-03-25', 'Water', 3, 7.5, 22.5), ('2022-03-26', 'Orange Juice', 8, 12.5, 100.0), ('2022-03-27', 'Unknown', 5, 10.0, 50.0), ('2022-03-28', 'Biscuits', 7, 20.0, 140.0), ('2022-03-29', 'Sweets', 9, 15.0, 135.0), ('2022-03-30', 'Water', 3, 7.5, 22.5), ('2022-03-31', 'Orange Juice', 8, 12.5, 100.0), ('2022-04-01', 'Chocolate', 5, 10.0, 50.0), ('2022-04-02', 'Biscuits', 7, 20.0, 140.0), ('2022-04-03', 'Sweets', 9, 15.0, 135.0), ('2022-04-06', 'Unknown', 5, 10.0, 50.0)]\n"
     ]
    }
   ],
   "source": [
    "with sql.connect(\"SalesDB.db\") as db:\n",
    "    cursor = db.cursor()\n",
    "    cursor.execute(\"\"\"\n",
    "        select * from Sales;\n",
    "    \"\"\")\n",
    "    print(cursor.fetchall())\n",
    "db.close()"
   ]
  },
  {
   "cell_type": "code",
   "execution_count": 4,
   "id": "85147886-2ebf-4d23-acf5-cc3f79a1bb6b",
   "metadata": {},
   "outputs": [
    {
     "data": {
      "text/html": [
       "<div>\n",
       "<style scoped>\n",
       "    .dataframe tbody tr th:only-of-type {\n",
       "        vertical-align: middle;\n",
       "    }\n",
       "\n",
       "    .dataframe tbody tr th {\n",
       "        vertical-align: top;\n",
       "    }\n",
       "\n",
       "    .dataframe thead th {\n",
       "        text-align: right;\n",
       "    }\n",
       "</style>\n",
       "<table border=\"1\" class=\"dataframe\">\n",
       "  <thead>\n",
       "    <tr style=\"text-align: right;\">\n",
       "      <th></th>\n",
       "      <th>Product</th>\n",
       "      <th>Quantity</th>\n",
       "      <th>Price</th>\n",
       "      <th>Total</th>\n",
       "      <th>Month</th>\n",
       "    </tr>\n",
       "  </thead>\n",
       "  <tbody>\n",
       "    <tr>\n",
       "      <th>0</th>\n",
       "      <td>Chocolate</td>\n",
       "      <td>5</td>\n",
       "      <td>10.0</td>\n",
       "      <td>50.0</td>\n",
       "      <td>2023-01</td>\n",
       "    </tr>\n",
       "    <tr>\n",
       "      <th>1</th>\n",
       "      <td>Biscuits</td>\n",
       "      <td>7</td>\n",
       "      <td>20.0</td>\n",
       "      <td>140.0</td>\n",
       "      <td>2023-01</td>\n",
       "    </tr>\n",
       "    <tr>\n",
       "      <th>2</th>\n",
       "      <td>Sweets</td>\n",
       "      <td>9</td>\n",
       "      <td>15.0</td>\n",
       "      <td>135.0</td>\n",
       "      <td>2023-01</td>\n",
       "    </tr>\n",
       "    <tr>\n",
       "      <th>3</th>\n",
       "      <td>Water</td>\n",
       "      <td>3</td>\n",
       "      <td>7.5</td>\n",
       "      <td>22.5</td>\n",
       "      <td>2023-01</td>\n",
       "    </tr>\n",
       "    <tr>\n",
       "      <th>4</th>\n",
       "      <td>Orange Juice</td>\n",
       "      <td>8</td>\n",
       "      <td>12.5</td>\n",
       "      <td>100.0</td>\n",
       "      <td>2023-01</td>\n",
       "    </tr>\n",
       "    <tr>\n",
       "      <th>...</th>\n",
       "      <td>...</td>\n",
       "      <td>...</td>\n",
       "      <td>...</td>\n",
       "      <td>...</td>\n",
       "      <td>...</td>\n",
       "    </tr>\n",
       "    <tr>\n",
       "      <th>146</th>\n",
       "      <td>Unknown</td>\n",
       "      <td>5</td>\n",
       "      <td>10.0</td>\n",
       "      <td>50.0</td>\n",
       "      <td>2022-04</td>\n",
       "    </tr>\n",
       "    <tr>\n",
       "      <th>147</th>\n",
       "      <td>Biscuits</td>\n",
       "      <td>7</td>\n",
       "      <td>20.0</td>\n",
       "      <td>140.0</td>\n",
       "      <td>2022-04</td>\n",
       "    </tr>\n",
       "    <tr>\n",
       "      <th>148</th>\n",
       "      <td>Sweets</td>\n",
       "      <td>9</td>\n",
       "      <td>15.0</td>\n",
       "      <td>135.0</td>\n",
       "      <td>2022-04</td>\n",
       "    </tr>\n",
       "    <tr>\n",
       "      <th>149</th>\n",
       "      <td>Water</td>\n",
       "      <td>3</td>\n",
       "      <td>7.5</td>\n",
       "      <td>22.5</td>\n",
       "      <td>2022-04</td>\n",
       "    </tr>\n",
       "    <tr>\n",
       "      <th>150</th>\n",
       "      <td>Orange Juice</td>\n",
       "      <td>8</td>\n",
       "      <td>12.5</td>\n",
       "      <td>100.0</td>\n",
       "      <td>2022-04</td>\n",
       "    </tr>\n",
       "  </tbody>\n",
       "</table>\n",
       "<p>151 rows × 5 columns</p>\n",
       "</div>"
      ],
      "text/plain": [
       "          Product  Quantity  Price  Total    Month\n",
       "0       Chocolate         5   10.0   50.0  2023-01\n",
       "1        Biscuits         7   20.0  140.0  2023-01\n",
       "2          Sweets         9   15.0  135.0  2023-01\n",
       "3           Water         3    7.5   22.5  2023-01\n",
       "4    Orange Juice         8   12.5  100.0  2023-01\n",
       "..            ...       ...    ...    ...      ...\n",
       "146       Unknown         5   10.0   50.0  2022-04\n",
       "147      Biscuits         7   20.0  140.0  2022-04\n",
       "148        Sweets         9   15.0  135.0  2022-04\n",
       "149         Water         3    7.5   22.5  2022-04\n",
       "150  Orange Juice         8   12.5  100.0  2022-04\n",
       "\n",
       "[151 rows x 5 columns]"
      ]
     },
     "execution_count": 4,
     "metadata": {},
     "output_type": "execute_result"
    }
   ],
   "source": [
    "import pandas as pd\n",
    "\n",
    "df = pd.read_csv(\"cleaned_sales_data.csv\", parse_dates=['Date'], dayfirst=True)\n",
    "df = df.iloc[:,1:]\n",
    "df"
   ]
  },
  {
   "cell_type": "code",
   "execution_count": 5,
   "id": "e85b3fb5-b826-44e7-9f4b-da01ad29816a",
   "metadata": {},
   "outputs": [
    {
     "ename": "ModuleNotFoundError",
     "evalue": "No module named 'sqlalchemy'",
     "output_type": "error",
     "traceback": [
      "\u001b[1;31m---------------------------------------------------------------------------\u001b[0m",
      "\u001b[1;31mModuleNotFoundError\u001b[0m                       Traceback (most recent call last)",
      "Cell \u001b[1;32mIn[5], line 1\u001b[0m\n\u001b[1;32m----> 1\u001b[0m \u001b[38;5;28;01mfrom\u001b[39;00m \u001b[38;5;21;01msqlalchemy\u001b[39;00m \u001b[38;5;28;01mimport\u001b[39;00m create_engine\n\u001b[0;32m      2\u001b[0m engine \u001b[38;5;241m=\u001b[39m create_engine(\u001b[38;5;124m'\u001b[39m\u001b[38;5;124msqlite://\u001b[39m\u001b[38;5;124m'\u001b[39m, echo\u001b[38;5;241m=\u001b[39m\u001b[38;5;28;01mFalse\u001b[39;00m)\n",
      "\u001b[1;31mModuleNotFoundError\u001b[0m: No module named 'sqlalchemy'"
     ]
    }
   ],
   "source": [
    "from sqlalchemy import create_engine\n",
    "engine = create_engine('sqlite://', echo=False)"
   ]
  },
  {
   "cell_type": "code",
   "execution_count": null,
   "id": "5a620754-fa8f-4db9-a421-c094da03040c",
   "metadata": {},
   "outputs": [],
   "source": [
    "df.to_sql(\"Sales\", con=engine)"
   ]
  },
  {
   "cell_type": "code",
   "execution_count": null,
   "id": "bd8133f0-fc1d-4614-9c72-86f11e3c138e",
   "metadata": {},
   "outputs": [],
   "source": [
    "from sqlalchemy import text\n",
    "with engine.connect() as conn:\n",
    "   print(conn.execute(text(\"SELECT * FROM Sales\")).fetchall())"
   ]
  },
  {
   "cell_type": "code",
   "execution_count": null,
   "id": "5cb133bb-5121-4f5a-b05a-d888f3e730a0",
   "metadata": {},
   "outputs": [],
   "source": [
    "from sqlalchemy import text\n",
    "with engine.connect() as conn:\n",
    "    data = conn.execute(text(\"SELECT substr(s.Date, 1, 4), s.Product, SUM(s.Quantity) FROM Sales s where substr(s.Date, 1, 4) like '2023' group by substr(s.Date, 1, 4), s.Product order by SUM(s.Quantity) desc\")).fetchall()\n",
    "    for row in data:\n",
    "        print(row)"
   ]
  },
  {
   "cell_type": "code",
   "execution_count": null,
   "id": "b23e8b9d-5403-4720-9391-16f0f373c313",
   "metadata": {},
   "outputs": [],
   "source": []
  }
 ],
 "metadata": {
  "kernelspec": {
   "display_name": "Python 3 (ipykernel)",
   "language": "python",
   "name": "python3"
  },
  "language_info": {
   "codemirror_mode": {
    "name": "ipython",
    "version": 3
   },
   "file_extension": ".py",
   "mimetype": "text/x-python",
   "name": "python",
   "nbconvert_exporter": "python",
   "pygments_lexer": "ipython3",
   "version": "3.8.20"
  }
 },
 "nbformat": 4,
 "nbformat_minor": 5
}
