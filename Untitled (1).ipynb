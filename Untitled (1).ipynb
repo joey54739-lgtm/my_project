{
 "cells": [
  {
   "cell_type": "code",
   "execution_count": 1,
   "id": "8022c3bb-020e-417e-92b5-7175a353a925",
   "metadata": {},
   "outputs": [],
   "source": [
    "import numpy as np"
   ]
  },
  {
   "cell_type": "markdown",
   "id": "152079e7-3036-4395-bc31-83bc59fe35dc",
   "metadata": {},
   "source": [
    "#### Task 1: Write a Numpy program to test whether none of the elements of a given array is zero."
   ]
  },
  {
   "cell_type": "code",
   "execution_count": 2,
   "id": "30e76034-5cea-4de6-8c5f-869e2584b834",
   "metadata": {},
   "outputs": [
    {
     "name": "stdout",
     "output_type": "stream",
     "text": [
      "False\n",
      "True\n"
     ]
    }
   ],
   "source": [
    "array=np.arange(0,10)\n",
    "print(np.all(array))\n",
    "print(np.any(array))"
   ]
  },
  {
   "cell_type": "markdown",
   "id": "7b6034b3-0fff-4d49-8f18-f8db2d7ebb18",
   "metadata": {},
   "source": [
    "#### Task 2: There are two arrays. The first array, array1 contains the values 45, 67, 23 and array2 contains the values 56, 23, and 89. \n",
    "#### Write a Numpy program to **create an element-wise comparison (greater, greater_equal, less and less_equal) of those two arrays**.  "
   ]
  },
  {
   "cell_type": "code",
   "execution_count": 3,
   "id": "6b66aee1-a749-4040-859e-64d1449e7085",
   "metadata": {},
   "outputs": [
    {
     "name": "stdout",
     "output_type": "stream",
     "text": [
      "[False  True False]\n",
      "[False  True False]\n",
      "[ True False  True]\n",
      "[ True False  True]\n"
     ]
    }
   ],
   "source": [
    "array1=np.array([45,67,23])\n",
    "array2=np.array([56,23,89])\n",
    "print(np.greater(array1,array2))      # >\n",
    "print(np.greater_equal(array1,array2))# >=\n",
    "print(np.less(array1,array2))         # <\n",
    "print(np.less_equal(array1,array2))   # <= function returns a Boolean array indicating the comparison result element-wise"
   ]
  },
  {
   "cell_type": "markdown",
   "id": "b9bb57cb-1430-4668-878f-493e2a61853f",
   "metadata": {},
   "source": [
    "#### Task3 Write a Numpy program to create an array of 8 zeros, 5 ones, 10 fives. "
   ]
  },
  {
   "cell_type": "code",
   "execution_count": 4,
   "id": "2472eb14-ae1e-4679-b043-3f1af52247bf",
   "metadata": {},
   "outputs": [
    {
     "name": "stdout",
     "output_type": "stream",
     "text": [
      "[0. 0. 0. 0. 0. 0. 0. 0.]\n",
      "[1. 1. 1. 1. 1.]\n",
      "[5. 5. 5. 5. 5. 5. 5. 5. 5. 5.]\n",
      "[0. 0. 0. 0. 0. 0. 0. 0. 1. 1. 1. 1. 1. 5. 5. 5. 5. 5. 5. 5. 5. 5. 5.]\n"
     ]
    }
   ],
   "source": [
    "array1=np.zeros(8)\n",
    "print(array1)\n",
    "array2=np.ones(5)\n",
    "print(array2)\n",
    "array3=np.ones(10)*5\n",
    "print(array3)\n",
    "# array=np.row_stack((array1,array2,array3))\n",
    "# array=np.vstack((array1,array2,array3))\n",
    "#array=np.concat(array1,array2,array3) #TypeError: only integer scalar arrays can be converted to a scalar index\n",
    "#array=np.concatenate([array1,array2,array3])\n",
    "array=np.concatenate([array1,array2,array3],axis=0)\n",
    "print(array)"
   ]
  },
  {
   "cell_type": "markdown",
   "id": "ce5145ab-64b5-4ea7-bb0a-0c49cdbc725a",
   "metadata": {},
   "source": [
    "The arrays must be passed inside a tuple or a list.\n",
    "\n",
    "❌ You cannot write `np.concatenate(array1, array2, array3)`\n",
    "\n",
    "✅ You must write `np.concatenate([array1, array2, array3])` or `np.concatenate((array1, array2, array3))`\n",
    "\n",
    "A 1D array has only one axis (axis=0), so concatenation is always along that axis.\n",
    "\n",
    "“Horizontal” and “vertical” directions only exist in 2D or higher dimensions."
   ]
  },
  {
   "cell_type": "markdown",
   "id": "02b1c622-9a38-41ab-ae6c-d3e4d97980be",
   "metadata": {},
   "source": [
    "#### Task4: Write a Numpy program to **add a vector v with values 2, 0, 2 to each row of a matrix m** with values: "
   ]
  },
  {
   "cell_type": "code",
   "execution_count": 5,
   "id": "d848ade7-9b0c-4f6a-b72c-9c43263838c4",
   "metadata": {},
   "outputs": [
    {
     "name": "stdout",
     "output_type": "stream",
     "text": [
      "[[25 45 13]\n",
      " [14 23 56]\n",
      " [31 19 36]\n",
      " [ 3 23 12]]\n"
     ]
    }
   ],
   "source": [
    "matrix=np.array([[23,45,11],[12,23,54],[29,19,34],[1,23,10]])\n",
    "vector=np.array([2,0,2])\n",
    "# np.array([1,2,3], [4,5,6]) #TypeError: array() takes from 1 to 2 positional arguments but 4 were given\n",
    "print(matrix+vector) #it treats v as a row and copies it for every row of m, then performs element-wise addition row by row"
   ]
  },
  {
   "cell_type": "markdown",
   "id": "70d470d4-951e-45c6-b478-7e45db02e121",
   "metadata": {},
   "source": [
    "##### NumPy Broadcasting\n",
    "\n",
    "Given a 2D array m with shape (n_rows, n_cols)\n",
    "\n",
    "And a 1D array v with length n_cols\n",
    "\n",
    "NumPy automatically “broadcasts” v to shape (n_rows, n_cols) and then performs element-wise addition with m."
   ]
  },
  {
   "cell_type": "markdown",
   "id": "68fb3673-61b7-40d9-862a-e6fdfe45d70a",
   "metadata": {},
   "source": [
    "#### Task 5: Write a NumPy program to create a 5x5 2d array with 1 on the border and 25 inside."
   ]
  },
  {
   "cell_type": "code",
   "execution_count": 6,
   "id": "5724ff93-755a-47ec-9ff4-1fdf839748c3",
   "metadata": {},
   "outputs": [
    {
     "name": "stdout",
     "output_type": "stream",
     "text": [
      "[[1. 1. 1. 1. 1.]\n",
      " [1. 1. 1. 1. 1.]\n",
      " [1. 1. 1. 1. 1.]\n",
      " [1. 1. 1. 1. 1.]\n",
      " [1. 1. 1. 1. 1.]]\n",
      "[[ 1.  1.  1.  1.  1.]\n",
      " [ 1. 25. 25. 25.  1.]\n",
      " [ 1. 25. 25. 25.  1.]\n",
      " [ 1. 25. 25. 25.  1.]\n",
      " [ 1.  1.  1.  1.  1.]]\n"
     ]
    }
   ],
   "source": [
    "matrix=np.ones((5,5))\n",
    "print(matrix)\n",
    "matrix[1:4,1:4]=25\n",
    "print(matrix)"
   ]
  },
  {
   "cell_type": "markdown",
   "id": "e1583a72-5cc8-4432-9e4d-caa48684a4ba",
   "metadata": {},
   "source": [
    "First, slice to get a **submatrix** `matrix[1:4,1:4]` from the original matrix.\n",
    "\n",
    "Then, **perform an element-wise assignment on this submatrix**, `matrix[1:4,1:4]=25` assigning the same value 25 to every element.\n",
    "\n",
    "So essentially, **you are doing element-wise operations on the sliced array**."
   ]
  },
  {
   "cell_type": "markdown",
   "id": "3555e78e-06f5-4f8c-9cfc-4b5678d1b2dd",
   "metadata": {},
   "source": [
    "#### Task6:Write a NumPy program to find common values between two arrays"
   ]
  },
  {
   "cell_type": "code",
   "execution_count": 7,
   "id": "2bcefcd7-051b-4079-9613-09408626a665",
   "metadata": {},
   "outputs": [
    {
     "name": "stdout",
     "output_type": "stream",
     "text": [
      "[ 5 23]\n"
     ]
    }
   ],
   "source": [
    "array1=np.array([23,45,11,5])\n",
    "array2=np.array([23,5,1])\n",
    "array_common=np.intersect1d(array1,array2)\n",
    "print(array_common)"
   ]
  },
  {
   "cell_type": "markdown",
   "id": "8058a0b5-d4e9-4746-9c62-165d9814d2d8",
   "metadata": {},
   "source": [
    "#### Task 7: Perform the following manipulation of the two arrays below: horizontal stacking, vertical stacking; divide the individual array horizontally and vertically.  "
   ]
  },
  {
   "cell_type": "code",
   "execution_count": 8,
   "id": "4086789d-f5e3-4dbb-8664-4d44071e00b3",
   "metadata": {},
   "outputs": [
    {
     "name": "stdout",
     "output_type": "stream",
     "text": [
      "[[23 45 11]\n",
      " [12 23 54]\n",
      " [ 1 23 10]]\n",
      "[[3 5 1]\n",
      " [2 3 4]\n",
      " [9 1 5]]\n"
     ]
    }
   ],
   "source": [
    "array1=np.array([[23,45,11],[12,23,54],[1,23,10]])\n",
    "array2=np.array([[3,5,1],[2,3,4],[9,1,5]])\n",
    "print(array1)\n",
    "print(array2)"
   ]
  },
  {
   "cell_type": "code",
   "execution_count": 9,
   "id": "3f076d0f-72b8-4f7e-a805-90700cceffc4",
   "metadata": {},
   "outputs": [
    {
     "name": "stdout",
     "output_type": "stream",
     "text": [
      "[[23 45 11]\n",
      " [12 23 54]\n",
      " [ 1 23 10]\n",
      " [ 3  5  1]\n",
      " [ 2  3  4]\n",
      " [ 9  1  5]]\n",
      "[[23 45 11  3  5  1]\n",
      " [12 23 54  2  3  4]\n",
      " [ 1 23 10  9  1  5]]\n"
     ]
    }
   ],
   "source": [
    "v_stack=np.vstack((array1,array2))\n",
    "print(v_stack)\n",
    "h_stack=np.hstack((array1,array2))\n",
    "print(h_stack)"
   ]
  },
  {
   "cell_type": "code",
   "execution_count": 10,
   "id": "99972bba-a669-46b1-b8d3-e661bdeda88a",
   "metadata": {},
   "outputs": [
    {
     "name": "stdout",
     "output_type": "stream",
     "text": [
      "[array([[23],\n",
      "       [12],\n",
      "       [ 1]]), array([[45],\n",
      "       [23],\n",
      "       [23]]), array([[11],\n",
      "       [54],\n",
      "       [10]])]\n",
      "[array([[23, 45, 11]]), array([[12, 23, 54]]), array([[ 1, 23, 10]])]\n"
     ]
    }
   ],
   "source": [
    "array1_hsplit=np.hsplit(array1,3)\n",
    "print(array1_hsplit)\n",
    "array1_vsplit=np.vsplit(array1,3)\n",
    "print(array1_vsplit)"
   ]
  },
  {
   "cell_type": "markdown",
   "id": "17e45a5d-4878-474b-b394-ad659be3f999",
   "metadata": {},
   "source": [
    "np.hsplit() and np.vsplit() always return 2D arrays (if the input is 2D)\n",
    "\n",
    "For 1D arrays, use np.split() instead."
   ]
  },
  {
   "cell_type": "markdown",
   "id": "84f3aaf4-81b0-4391-bb2c-4571faf64dac",
   "metadata": {},
   "source": [
    "## DataFrame\n",
    "Sample DataFrame:\n",
    "assessment_results = {\n",
    "\n",
    "'name': ['Anastasia', 'Paul', 'Kathe', 'Joseph', 'Linda', 'Michael', 'Matt',\n",
    "'Laurentine', 'Chirstian', 'Jonas'],\n",
    "\n",
    "'score': [12.5, 10, 16.5, np.nan, 9, 20, 14.5, np.nan, 8, 19],\n",
    "\n",
    "'attempts': [1, 3, 2, 3, 2, 3, 1, 1, 2, 1],\n",
    "\n",
    "'qualify': ['yes', 'no', 'yes', 'no', 'no', 'yes', 'yes', 'no', 'no', 'yes']\n",
    "\n",
    "}\n",
    "\n",
    "labels = ['a', 'b', 'c', 'd', 'e', 'f', 'g', 'h', 'i', 'j']"
   ]
  },
  {
   "cell_type": "code",
   "execution_count": 11,
   "id": "bcf213df-0a07-47cb-bd52-0171d8068400",
   "metadata": {},
   "outputs": [],
   "source": [
    "import pandas as pd"
   ]
  },
  {
   "cell_type": "code",
   "execution_count": 29,
   "id": "f2a0ead2-c7b1-4f95-b75e-44a0a08f42e0",
   "metadata": {},
   "outputs": [
    {
     "name": "stdout",
     "output_type": "stream",
     "text": [
      "         name  score  attempts qualify\n",
      "0   Anastasia   12.5         1     yes\n",
      "1        Paul   10.0         3      no\n",
      "2       Kathe   16.5         2     yes\n",
      "3      Joseph    NaN         3      no\n",
      "4       Linda    9.0         2      no\n",
      "5     Michael   20.0         3     yes\n",
      "6        Matt   14.5         1     yes\n",
      "7  Laurentine    NaN         1      no\n",
      "8   Chirstian    8.0         2      no\n",
      "9       Jonas   19.0         1     yes\n"
     ]
    }
   ],
   "source": [
    "assessment_results = {'name': ['Anastasia', 'Paul', 'Kathe', 'Joseph', 'Linda', 'Michael', 'Matt', 'Laurentine', 'Chirstian', 'Jonas'],'score': [12.5, 10, 16.5, np.nan, 9, 20, 14.5, np.nan, 8, 19],\n",
    "'attempts': [1, 3, 2, 3, 2, 3, 1, 1, 2, 1],\n",
    "'qualify': ['yes', 'no', 'yes', 'no', 'no', 'yes', 'yes', 'no', 'no', 'yes']\n",
    "}\n",
    "labels = ['a', 'b', 'c', 'd', 'e', 'f', 'g', 'h', 'i', 'j']\n",
    "frame=pd.DataFrame(assessment_results)\n",
    "print(frame)"
   ]
  },
  {
   "cell_type": "markdown",
   "id": "ae1817e0-8f3f-4c42-bc29-f086c4ed1f84",
   "metadata": {},
   "source": [
    "#### Task 8: Write a Pandas program to **get the first 3 rows of a given DataFrame**."
   ]
  },
  {
   "cell_type": "code",
   "execution_count": 13,
   "id": "9e5e9a9e-fb7d-440d-be82-5d3ce2de7359",
   "metadata": {},
   "outputs": [
    {
     "name": "stdout",
     "output_type": "stream",
     "text": [
      "        name  score  attempts qualify\n",
      "0  Anastasia   12.5         1     yes\n",
      "1       Paul   10.0         3      no\n",
      "2      Kathe   16.5         2     yes\n"
     ]
    }
   ],
   "source": [
    "# frame1=frame[0:3,:]\n",
    "frame1=frame.iloc[0:3,:]\n",
    "print(frame1)"
   ]
  },
  {
   "cell_type": "markdown",
   "id": "6d9b5043-cdc3-4f3b-be8e-17cab26fb54b",
   "metadata": {},
   "source": [
    "#### Task 9: Write a Pandas program to select the rows where the number of attempts in the examination is greater than 2. "
   ]
  },
  {
   "cell_type": "code",
   "execution_count": 17,
   "id": "d4272625-f015-4909-8510-c7b307cccfb1",
   "metadata": {},
   "outputs": [
    {
     "name": "stdout",
     "output_type": "stream",
     "text": [
      "0    1\n",
      "1    3\n",
      "2    2\n",
      "3    3\n",
      "4    2\n",
      "5    3\n",
      "6    1\n",
      "7    1\n",
      "8    2\n",
      "9    1\n",
      "Name: attempts, dtype: int64\n",
      "      name  score  attempts qualify\n",
      "1     Paul   10.0         3      no\n",
      "3   Joseph    NaN         3      no\n",
      "5  Michael   20.0         3     yes\n"
     ]
    }
   ],
   "source": [
    "# frame['attempts'>2]\n",
    "print(frame['attempts'])\n",
    "mask=frame['attempts']>2\n",
    "print(frame[mask])"
   ]
  },
  {
   "cell_type": "markdown",
   "id": "111f131d-9c96-4103-bb5d-f9c0b4b4fc2d",
   "metadata": {},
   "source": [
    "`frame['attempts']` → returns one column from the DataFrame as a Series (1D array-like).\n",
    "\n",
    "`frame['attempts'] > 2` → does an element-wise comparison, giving a Boolean Series (True/False).  \n",
    "\n",
    "`frame[frame['attempts'] > 2]` → uses that Boolean Series to filter rows, keeping only those where the condition is True.\n",
    "\n",
    "so basically, mask=frame['attempts'] > 2, frame[mask] keeps only the rows where mask is True."
   ]
  },
  {
   "cell_type": "markdown",
   "id": "0a738a39-89d3-4f03-96ac-9d7cbfd70763",
   "metadata": {},
   "source": [
    "#### Task 10: Write a Pandas program to count the number of rows and columns of a DataFrame."
   ]
  },
  {
   "cell_type": "code",
   "execution_count": 15,
   "id": "c51bbf10-3593-4e36-ba21-445e5dd32a12",
   "metadata": {},
   "outputs": [
    {
     "name": "stdout",
     "output_type": "stream",
     "text": [
      "(10, 4)\n"
     ]
    }
   ],
   "source": [
    "print(frame.shape)"
   ]
  },
  {
   "cell_type": "markdown",
   "id": "e4f3395d-3502-40ca-8f5a-296238c6edac",
   "metadata": {},
   "source": [
    "#### Task 11: Write a Pandas program to select the rows the score is between 14 and 20 (inclusive). "
   ]
  },
  {
   "cell_type": "code",
   "execution_count": 27,
   "id": "2a614e9d-7482-4ea1-93a7-f0cf0761d254",
   "metadata": {},
   "outputs": [
    {
     "name": "stdout",
     "output_type": "stream",
     "text": [
      "      name  score  attempts qualify\n",
      "2    Kathe   16.5         2     yes\n",
      "5  Michael   20.0         3     yes\n",
      "6     Matt   14.5         1     yes\n",
      "9    Jonas   19.0         1     yes\n",
      "      name  score  attempts qualify\n",
      "2    Kathe   16.5         2     yes\n",
      "5  Michael   20.0         3     yes\n",
      "6     Matt   14.5         1     yes\n",
      "9    Jonas   19.0         1     yes\n"
     ]
    }
   ],
   "source": [
    "# print(frame[14<=frame['score']<=20])\n",
    "print(frame[(frame['score']>=14)&(frame['score']<=20)])\n",
    "print(frame[frame['score'].between(14,20)])"
   ]
  },
  {
   "cell_type": "markdown",
   "id": "e8ccc361-2b93-40fd-ae72-0484166e678a",
   "metadata": {},
   "source": [
    "#### Task 12: Write a Pandas program to change the score in row 'c' to 11.5"
   ]
  },
  {
   "cell_type": "code",
   "execution_count": 30,
   "id": "61780602-fa4f-402d-9e71-18b7042c9c6b",
   "metadata": {},
   "outputs": [
    {
     "name": "stdout",
     "output_type": "stream",
     "text": [
      "         name  score  attempts qualify\n",
      "a   Anastasia   12.5         1     yes\n",
      "b        Paul   10.0         3      no\n",
      "c       Kathe   16.5         2     yes\n",
      "d      Joseph    NaN         3      no\n",
      "e       Linda    9.0         2      no\n",
      "f     Michael   20.0         3     yes\n",
      "g        Matt   14.5         1     yes\n",
      "h  Laurentine    NaN         1      no\n",
      "i   Chirstian    8.0         2      no\n",
      "j       Jonas   19.0         1     yes\n"
     ]
    }
   ],
   "source": [
    "frame=pd.DataFrame(assessment_results,index=labels)\n",
    "print(frame)"
   ]
  },
  {
   "cell_type": "code",
   "execution_count": 33,
   "id": "8755fd2f-4bbf-493d-9b86-56f2497317fd",
   "metadata": {},
   "outputs": [
    {
     "name": "stdout",
     "output_type": "stream",
     "text": [
      "name        Kathe\n",
      "score        16.5\n",
      "attempts        2\n",
      "qualify       yes\n",
      "socre        11.5\n",
      "Name: c, dtype: object\n",
      "name        Kathe\n",
      "score        16.5\n",
      "attempts        2\n",
      "qualify       yes\n",
      "socre        11.5\n",
      "Name: c, dtype: object\n"
     ]
    }
   ],
   "source": [
    "frame.loc['c','socre']=11.5\n",
    "# print(frame['c',:])\n",
    "print(frame.loc['c',:])\n",
    "print(frame.loc['c'])"
   ]
  },
  {
   "cell_type": "markdown",
   "id": "5dea558c-9bf3-4fba-aac2-71cd6114cf69",
   "metadata": {},
   "source": [
    "#### Task 13: Write a Pandas program to calculate the mean score for each different student in DataFrame"
   ]
  },
  {
   "cell_type": "code",
   "execution_count": 38,
   "id": "bb7dbc4c-235e-4900-85e8-51752662d754",
   "metadata": {},
   "outputs": [
    {
     "name": "stdout",
     "output_type": "stream",
     "text": [
      "name\n",
      "Anastasia     12.5\n",
      "Chirstian      8.0\n",
      "Jonas         19.0\n",
      "Joseph         NaN\n",
      "Kathe         16.5\n",
      "Laurentine     NaN\n",
      "Linda          9.0\n",
      "Matt          14.5\n",
      "Michael       20.0\n",
      "Paul          10.0\n",
      "Name: score, dtype: float64\n",
      "name\n",
      "Anastasia     12.5\n",
      "Chirstian      8.0\n",
      "Jonas         19.0\n",
      "Joseph         NaN\n",
      "Kathe         16.5\n",
      "Laurentine     NaN\n",
      "Linda          9.0\n",
      "Matt          14.5\n",
      "Michael       20.0\n",
      "Paul          10.0\n",
      "Name: score, dtype: float64\n"
     ]
    }
   ],
   "source": [
    "group=frame.groupby('name')['score'].mean()        #Group by name first, then focus on the ‘score’ column\n",
    "print(group)\n",
    "# group=frame['score'].groupby('name').mean()\n",
    "group=frame['score'].groupby(frame['name']).mean() #Take the ‘score’ Column, then group it by name\n",
    "print(group)                                       #Both give the same result"
   ]
  },
  {
   "cell_type": "markdown",
   "id": "1d53a552-8a5a-4b4e-ab3a-59d64e18c19c",
   "metadata": {},
   "source": [
    "`frame.groupby('name')` → group the DataFrame by the column “name.\n",
    "\n",
    "This splits the DataFrame into smaller groups (**one group for each unique name**).\n",
    "\n",
    "`['score']` → from each group, select only the “score” column.\n",
    "\n",
    "This tells Pandas which column you want to apply an operation to.\n",
    "\n",
    "\n",
    "frame['score'] → **gives you one column (a Series)**\n",
    "\n",
    ".groupby() must be told what to group by — but **a Series doesn’t automatically know about other columns in the DataFrame**\n",
    "\n",
    "So if you write .groupby('name'), it doesn’t know where 'name' comes from — it’s just a string, not actual data."
   ]
  },
  {
   "cell_type": "code",
   "execution_count": null,
   "id": "28591f00-4df2-432f-b5af-4577436491a7",
   "metadata": {},
   "outputs": [],
   "source": []
  }
 ],
 "metadata": {
  "kernelspec": {
   "display_name": "Python (data_env)",
   "language": "python",
   "name": "data_env"
  },
  "language_info": {
   "codemirror_mode": {
    "name": "ipython",
    "version": 3
   },
   "file_extension": ".py",
   "mimetype": "text/x-python",
   "name": "python",
   "nbconvert_exporter": "python",
   "pygments_lexer": "ipython3",
   "version": "3.13.7"
  }
 },
 "nbformat": 4,
 "nbformat_minor": 5
}
