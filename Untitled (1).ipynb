{
 "cells": [
  {
   "cell_type": "code",
   "execution_count": 8,
   "id": "8022c3bb-020e-417e-92b5-7175a353a925",
   "metadata": {},
   "outputs": [
    {
     "name": "stdout",
     "output_type": "stream",
     "text": [
      "False\n"
     ]
    }
   ],
   "source": [
    "import numpy as np\n",
    "array=np.arange(0,10)\n",
    "print(np.all(array!=0))"
   ]
  },
  {
   "cell_type": "code",
   "execution_count": 4,
   "id": "6b66aee1-a749-4040-859e-64d1449e7085",
   "metadata": {},
   "outputs": [
    {
     "name": "stdout",
     "output_type": "stream",
     "text": [
      "[False  True False]\n",
      "[False  True False]\n",
      "[ True False  True]\n",
      "[ True False  True]\n"
     ]
    }
   ],
   "source": [
    "array1=np.array([45,67,23])\n",
    "array2=np.array([56,23,89])\n",
    "print(np.greater(array1,array2))\n",
    "print(np.greater_equal(array1,array2))\n",
    "print(np.less(array1,array2))\n",
    "print(np.less_equal(array1,array2))"
   ]
  },
  {
   "cell_type": "code",
   "execution_count": 17,
   "id": "2472eb14-ae1e-4679-b043-3f1af52247bf",
   "metadata": {},
   "outputs": [
    {
     "name": "stdout",
     "output_type": "stream",
     "text": [
      "[0. 0. 0. 0. 0. 0. 0. 0.]\n",
      "[1. 1. 1. 1. 1.]\n",
      "[5. 5. 5. 5. 5. 5. 5. 5. 5. 5.]\n",
      "[0. 0. 0. 0. 0. 0. 0. 0. 1. 1. 1. 1. 1. 5. 5. 5. 5. 5. 5. 5. 5. 5. 5.]\n"
     ]
    }
   ],
   "source": [
    "array1=np.zeros(8)\n",
    "print(array1)\n",
    "array2=np.ones(5)\n",
    "print(array2)\n",
    "array3=np.ones(10)*5\n",
    "print(array3)\n",
    "# array=np.row_stack((array1,array2,array3))\n",
    "# array=np.vstack((array1,array2,array3))\n",
    "array=np.concat([array1,array2,array3]) #TypeError: only integer scalar arrays can be converted to a scalar index\n",
    "# array=np.concatenate([array1,array2,array3])\n",
    "print(array)"
   ]
  },
  {
   "cell_type": "code",
   "execution_count": 24,
   "id": "d848ade7-9b0c-4f6a-b72c-9c43263838c4",
   "metadata": {},
   "outputs": [
    {
     "name": "stdout",
     "output_type": "stream",
     "text": [
      "[[25 45 13]\n",
      " [14 23 56]\n",
      " [31 19 36]\n",
      " [ 3 23 12]]\n"
     ]
    }
   ],
   "source": [
    "matrix=np.array([[23,45,11],[12,23,54],[29,19,34],[1,23,10]])\n",
    "vector=np.array([2,0,2])\n",
    "#print(matrix+vector)#TypeError: array() takes from 1 to 2 positional arguments but 4 were given\n",
    "print(matrix+vector)"
   ]
  },
  {
   "cell_type": "code",
   "execution_count": 27,
   "id": "5724ff93-755a-47ec-9ff4-1fdf839748c3",
   "metadata": {},
   "outputs": [
    {
     "name": "stdout",
     "output_type": "stream",
     "text": [
      "[[1. 1. 1. 1. 1.]\n",
      " [1. 1. 1. 1. 1.]\n",
      " [1. 1. 1. 1. 1.]\n",
      " [1. 1. 1. 1. 1.]\n",
      " [1. 1. 1. 1. 1.]]\n",
      "[[ 1.  1.  1.  1.  1.]\n",
      " [ 1. 25. 25. 25.  1.]\n",
      " [ 1. 25. 25. 25.  1.]\n",
      " [ 1. 25. 25. 25.  1.]\n",
      " [ 1.  1.  1.  1.  1.]]\n"
     ]
    }
   ],
   "source": [
    "matrix=np.ones((5,5))\n",
    "print(matrix)\n",
    "matrix[1:4,1:4]=25\n",
    "print(matrix)"
   ]
  },
  {
   "cell_type": "markdown",
   "id": "3555e78e-06f5-4f8c-9cfc-4b5678d1b2dd",
   "metadata": {},
   "source": [
    "Task6:Write a NumPy program to find common values between two arrays"
   ]
  },
  {
   "cell_type": "code",
   "execution_count": 36,
   "id": "2bcefcd7-051b-4079-9613-09408626a665",
   "metadata": {},
   "outputs": [
    {
     "name": "stdout",
     "output_type": "stream",
     "text": [
      "[ 5 23]\n"
     ]
    }
   ],
   "source": [
    "array1=np.array([23,45,11,5])\n",
    "array2=np.array([23,5,1])\n",
    "array_common=np.intersect1d(array1,array2)\n",
    "print(array_common)"
   ]
  },
  {
   "cell_type": "code",
   "execution_count": 41,
   "id": "4086789d-f5e3-4dbb-8664-4d44071e00b3",
   "metadata": {},
   "outputs": [
    {
     "name": "stdout",
     "output_type": "stream",
     "text": [
      "[array([[23, 45, 11],\n",
      "       [12, 23, 54]]), array([[ 1, 23, 10],\n",
      "       [ 3,  5,  1]]), array([[2, 3, 4],\n",
      "       [9, 1, 5]])]\n"
     ]
    }
   ],
   "source": [
    "array1=np.array([[23,45,11],[12,23,54],[1,23,10]])\n",
    "array2=np.array([[3,5,1],[2,3,4],[9,1,5]])\n",
    "ho_stack=np.vstack((array1,array2))\n",
    "#print(ho_stack)\n",
    "ver_stack=np.hstack((array1,array2))\n",
    "#print(ver_stack)\n",
    "ho_div=np.hsplit(ver_stack,2) #TypeError: hsplit() missing 1 required positional argument: 'indices_or_sections'\n",
    "#print(ho_div)\n",
    "ver_div=np.vsplit(ho_stack,3)\n",
    "print(ver_div)"
   ]
  },
  {
   "cell_type": "markdown",
   "id": "84f3aaf4-81b0-4391-bb2c-4571faf64dac",
   "metadata": {},
   "source": [
    "## DataFrame\n",
    "Sample DataFrame:\n",
    "assessment_results = {\n",
    "\n",
    "'name': ['Anastasia', 'Paul', 'Kathe', 'Joseph', 'Linda', 'Michael', 'Matt',\n",
    "'Laurentine', 'Chirstian', 'Jonas'],\n",
    "\n",
    "'score': [12.5, 10, 16.5, np.nan, 9, 20, 14.5, np.nan, 8, 19],\n",
    "\n",
    "'attempts': [1, 3, 2, 3, 2, 3, 1, 1, 2, 1],\n",
    "\n",
    "'qualify': ['yes', 'no', 'yes', 'no', 'no', 'yes', 'yes', 'no', 'no', 'yes']\n",
    "\n",
    "}\n",
    "\n",
    "labels = ['a', 'b', 'c', 'd', 'e', 'f', 'g', 'h', 'i', 'j']"
   ]
  },
  {
   "cell_type": "code",
   "execution_count": 42,
   "id": "bcf213df-0a07-47cb-bd52-0171d8068400",
   "metadata": {},
   "outputs": [],
   "source": [
    "import pandas as pd"
   ]
  },
  {
   "cell_type": "code",
   "execution_count": 43,
   "id": "f2a0ead2-c7b1-4f95-b75e-44a0a08f42e0",
   "metadata": {},
   "outputs": [
    {
     "name": "stdout",
     "output_type": "stream",
     "text": [
      "         name  score  attempts qualify\n",
      "0   Anastasia   12.5         1     yes\n",
      "1        Paul   10.0         3      no\n",
      "2       Kathe   16.5         2     yes\n",
      "3      Joseph    NaN         3      no\n",
      "4       Linda    9.0         2      no\n",
      "5     Michael   20.0         3     yes\n",
      "6        Matt   14.5         1     yes\n",
      "7  Laurentine    NaN         1      no\n",
      "8   Chirstian    8.0         2      no\n",
      "9       Jonas   19.0         1     yes\n"
     ]
    }
   ],
   "source": [
    "assessment_results = {'name': ['Anastasia', 'Paul', 'Kathe', 'Joseph', 'Linda', 'Michael', 'Matt', 'Laurentine', 'Chirstian', 'Jonas'],'score': [12.5, 10, 16.5, np.nan, 9, 20, 14.5, np.nan, 8, 19],\n",
    "'attempts': [1, 3, 2, 3, 2, 3, 1, 1, 2, 1],\n",
    "'qualify': ['yes', 'no', 'yes', 'no', 'no', 'yes', 'yes', 'no', 'no', 'yes']\n",
    "}\n",
    "frame=pd.DataFrame(assessment_results)\n",
    "print(frame)"
   ]
  },
  {
   "cell_type": "code",
   "execution_count": 44,
   "id": "9e5e9a9e-fb7d-440d-be82-5d3ce2de7359",
   "metadata": {},
   "outputs": [
    {
     "ename": "InvalidIndexError",
     "evalue": "(slice(0, 3, None), slice(None, None, None))",
     "output_type": "error",
     "traceback": [
      "\u001b[1;31m---------------------------------------------------------------------------\u001b[0m",
      "\u001b[1;31mKeyError\u001b[0m                                  Traceback (most recent call last)",
      "File \u001b[1;32mC:\\ProgramData\\anaconda3\\Lib\\site-packages\\pandas\\core\\indexes\\base.py:3805\u001b[0m, in \u001b[0;36mIndex.get_loc\u001b[1;34m(self, key)\u001b[0m\n\u001b[0;32m   3804\u001b[0m \u001b[38;5;28;01mtry\u001b[39;00m:\n\u001b[1;32m-> 3805\u001b[0m     \u001b[38;5;28;01mreturn\u001b[39;00m \u001b[38;5;28mself\u001b[39m\u001b[38;5;241m.\u001b[39m_engine\u001b[38;5;241m.\u001b[39mget_loc(casted_key)\n\u001b[0;32m   3806\u001b[0m \u001b[38;5;28;01mexcept\u001b[39;00m \u001b[38;5;167;01mKeyError\u001b[39;00m \u001b[38;5;28;01mas\u001b[39;00m err:\n",
      "File \u001b[1;32mindex.pyx:167\u001b[0m, in \u001b[0;36mpandas._libs.index.IndexEngine.get_loc\u001b[1;34m()\u001b[0m\n",
      "File \u001b[1;32mindex.pyx:196\u001b[0m, in \u001b[0;36mpandas._libs.index.IndexEngine.get_loc\u001b[1;34m()\u001b[0m\n",
      "File \u001b[1;32mpandas\\\\_libs\\\\hashtable_class_helper.pxi:7081\u001b[0m, in \u001b[0;36mpandas._libs.hashtable.PyObjectHashTable.get_item\u001b[1;34m()\u001b[0m\n",
      "File \u001b[1;32mpandas\\\\_libs\\\\hashtable_class_helper.pxi:7089\u001b[0m, in \u001b[0;36mpandas._libs.hashtable.PyObjectHashTable.get_item\u001b[1;34m()\u001b[0m\n",
      "\u001b[1;31mKeyError\u001b[0m: (slice(0, 3, None), slice(None, None, None))",
      "\nDuring handling of the above exception, another exception occurred:\n",
      "\u001b[1;31mInvalidIndexError\u001b[0m                         Traceback (most recent call last)",
      "Cell \u001b[1;32mIn[44], line 1\u001b[0m\n\u001b[1;32m----> 1\u001b[0m frame1\u001b[38;5;241m=\u001b[39mframe[\u001b[38;5;241m0\u001b[39m:\u001b[38;5;241m3\u001b[39m,:]\n\u001b[0;32m      2\u001b[0m \u001b[38;5;28mprint\u001b[39m(frame1)\n",
      "File \u001b[1;32mC:\\ProgramData\\anaconda3\\Lib\\site-packages\\pandas\\core\\frame.py:4102\u001b[0m, in \u001b[0;36mDataFrame.__getitem__\u001b[1;34m(self, key)\u001b[0m\n\u001b[0;32m   4100\u001b[0m \u001b[38;5;28;01mif\u001b[39;00m \u001b[38;5;28mself\u001b[39m\u001b[38;5;241m.\u001b[39mcolumns\u001b[38;5;241m.\u001b[39mnlevels \u001b[38;5;241m>\u001b[39m \u001b[38;5;241m1\u001b[39m:\n\u001b[0;32m   4101\u001b[0m     \u001b[38;5;28;01mreturn\u001b[39;00m \u001b[38;5;28mself\u001b[39m\u001b[38;5;241m.\u001b[39m_getitem_multilevel(key)\n\u001b[1;32m-> 4102\u001b[0m indexer \u001b[38;5;241m=\u001b[39m \u001b[38;5;28mself\u001b[39m\u001b[38;5;241m.\u001b[39mcolumns\u001b[38;5;241m.\u001b[39mget_loc(key)\n\u001b[0;32m   4103\u001b[0m \u001b[38;5;28;01mif\u001b[39;00m is_integer(indexer):\n\u001b[0;32m   4104\u001b[0m     indexer \u001b[38;5;241m=\u001b[39m [indexer]\n",
      "File \u001b[1;32mC:\\ProgramData\\anaconda3\\Lib\\site-packages\\pandas\\core\\indexes\\base.py:3811\u001b[0m, in \u001b[0;36mIndex.get_loc\u001b[1;34m(self, key)\u001b[0m\n\u001b[0;32m   3806\u001b[0m \u001b[38;5;28;01mexcept\u001b[39;00m \u001b[38;5;167;01mKeyError\u001b[39;00m \u001b[38;5;28;01mas\u001b[39;00m err:\n\u001b[0;32m   3807\u001b[0m     \u001b[38;5;28;01mif\u001b[39;00m \u001b[38;5;28misinstance\u001b[39m(casted_key, \u001b[38;5;28mslice\u001b[39m) \u001b[38;5;129;01mor\u001b[39;00m (\n\u001b[0;32m   3808\u001b[0m         \u001b[38;5;28misinstance\u001b[39m(casted_key, abc\u001b[38;5;241m.\u001b[39mIterable)\n\u001b[0;32m   3809\u001b[0m         \u001b[38;5;129;01mand\u001b[39;00m \u001b[38;5;28many\u001b[39m(\u001b[38;5;28misinstance\u001b[39m(x, \u001b[38;5;28mslice\u001b[39m) \u001b[38;5;28;01mfor\u001b[39;00m x \u001b[38;5;129;01min\u001b[39;00m casted_key)\n\u001b[0;32m   3810\u001b[0m     ):\n\u001b[1;32m-> 3811\u001b[0m         \u001b[38;5;28;01mraise\u001b[39;00m InvalidIndexError(key)\n\u001b[0;32m   3812\u001b[0m     \u001b[38;5;28;01mraise\u001b[39;00m \u001b[38;5;167;01mKeyError\u001b[39;00m(key) \u001b[38;5;28;01mfrom\u001b[39;00m\u001b[38;5;250m \u001b[39m\u001b[38;5;21;01merr\u001b[39;00m\n\u001b[0;32m   3813\u001b[0m \u001b[38;5;28;01mexcept\u001b[39;00m \u001b[38;5;167;01mTypeError\u001b[39;00m:\n\u001b[0;32m   3814\u001b[0m     \u001b[38;5;66;03m# If we have a listlike key, _check_indexing_error will raise\u001b[39;00m\n\u001b[0;32m   3815\u001b[0m     \u001b[38;5;66;03m#  InvalidIndexError. Otherwise we fall through and re-raise\u001b[39;00m\n\u001b[0;32m   3816\u001b[0m     \u001b[38;5;66;03m#  the TypeError.\u001b[39;00m\n",
      "\u001b[1;31mInvalidIndexError\u001b[0m: (slice(0, 3, None), slice(None, None, None))"
     ]
    }
   ],
   "source": [
    "frame1=frame[0:3,:]\n",
    "print(frame1)"
   ]
  },
  {
   "cell_type": "code",
   "execution_count": null,
   "id": "528cc1a5-ddc9-4ec5-a780-74962a9f65fb",
   "metadata": {},
   "outputs": [],
   "source": []
  }
 ],
 "metadata": {
  "kernelspec": {
   "display_name": "Python 3 (ipykernel)",
   "language": "python",
   "name": "python3"
  },
  "language_info": {
   "codemirror_mode": {
    "name": "ipython",
    "version": 3
   },
   "file_extension": ".py",
   "mimetype": "text/x-python",
   "name": "python",
   "nbconvert_exporter": "python",
   "pygments_lexer": "ipython3",
   "version": "3.13.5"
  }
 },
 "nbformat": 4,
 "nbformat_minor": 5
}
