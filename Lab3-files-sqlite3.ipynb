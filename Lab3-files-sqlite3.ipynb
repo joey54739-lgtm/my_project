{
 "cells": [
  {
   "cell_type": "markdown",
   "id": "72d940e0-07a3-4cde-93ef-1c897f15e853",
   "metadata": {},
   "source": [
    "1) create a new file\n",
    "2) Display the file\n",
    "3) Add a new item to the file"
   ]
  },
  {
   "cell_type": "code",
   "execution_count": 8,
   "id": "cfa41b52-9a19-465d-b9fa-bc891df6b9be",
   "metadata": {},
   "outputs": [
    {
     "name": "stdin",
     "output_type": "stream",
     "text": [
      "1,2,3? 2\n"
     ]
    },
    {
     "name": "stdout",
     "output_type": "stream",
     "text": [
      "Machine Learning\n",
      "Data Science and Systems\n",
      "Programming Systems\n"
     ]
    }
   ],
   "source": [
    "choice=input(\"1,2,3?\")\n",
    "if choice=='1':\n",
    "    subject=input(\"enter a school subject\")\n",
    "    file=open(\"Subjects.txt\",\"w\")\n",
    "    file.write(subject+\"\\n\")\n",
    "    file.close()\n",
    "elif choice=='2':\n",
    "    file=open(\"Subjects.txt\",\"r\")\n",
    "    lines=file.readlines() #Readlines returns a list where each element is one line\n",
    "    for line in lines:\n",
    "        print(line,end=\"\")\n",
    "elif choice=='3':\n",
    "    #file.append(subject=input(\"enter a school subject\"))\n",
    "    file=open(\"Subjects.txt\",\"a\")\n",
    "    file.write(input(\"enter a school subject\")+\"\\n\")\n",
    "    file.close()\n",
    "    file=open(\"Subjects.txt\",\"r\")\n",
    "    lines=file.readlines()\n",
    "    for line in lines:\n",
    "        print(line,end=\"\")\n",
    "    file.close()\n",
    "else:\n",
    "    print(\"error\")\n",
    "    "
   ]
  },
  {
   "cell_type": "code",
   "execution_count": 1,
   "id": "337a8a7b-a758-4fdc-9169-f2f17171fd5f",
   "metadata": {},
   "outputs": [
    {
     "name": "stdin",
     "output_type": "stream",
     "text": [
      "enter your name varsha\n",
      "2+6=? 8\n",
      "6+3=? 9\n"
     ]
    },
    {
     "name": "stdout",
     "output_type": "stream",
     "text": [
      "['varsha', '4+1=?', '5', '4+4=?', '8', '2']\n",
      "['joey', '8+2=?', '10', '8+8=?', '16', '2']\n",
      "['varsha', '2+6=?', '8', '6+3=?', '9', '2']\n"
     ]
    }
   ],
   "source": [
    "import random\n",
    "import csv\n",
    "name=input(\"enter your name\")\n",
    "question=[]\n",
    "answer=[]\n",
    "score=0\n",
    "for i in range(2):\n",
    "    a=random.randint(1,10)\n",
    "    b=random.randint(1,10)\n",
    "    #question[i]=f\"{a}+{b}=?\"\n",
    "    #answer[i]=int(input(f\"{question[i]}\"))\n",
    "    question.append(f\"{a}+{b}=?\")\n",
    "    answer.append(int(input(f\"{question[i]}\")))\n",
    "    if answer[i]==a+b:\n",
    "        score+=1\n",
    "file=open(\"math_quiz.csv\",\"a\")\n",
    "file.write(f\"{name},{question[0]},{answer[0]},{question[1]},{answer[1]},{score}\\n\")\n",
    "file.close()\n",
    "file=open(\"math_quiz.csv\",\"r\")\n",
    "reader=csv.reader(file)\n",
    "for row in reader:\n",
    "    print(row)\n",
    "file.close()\n",
    "\n",
    "\n",
    "\n",
    "\n",
    "\n"
   ]
  },
  {
   "cell_type": "code",
   "execution_count": 3,
   "id": "c5e55c4e-c701-4fbb-b50a-e8ef584a1d02",
   "metadata": {},
   "outputs": [
    {
     "name": "stdin",
     "output_type": "stream",
     "text": [
      "enter 1?2?3? 1\n",
      "your name: varsha\n",
      "your salary: ￡36,184\n",
      "enter 1?2?3? 2\n"
     ]
    },
    {
     "name": "stdout",
     "output_type": "stream",
     "text": [
      "['varsha', '￡36,184']\n",
      "[]\n"
     ]
    },
    {
     "name": "stdin",
     "output_type": "stream",
     "text": [
      "enter 1?2?3? 3\n"
     ]
    }
   ],
   "source": [
    "import csv\n",
    "choice=input(\"enter 1?2?3?\")\n",
    "while choice!='3':\n",
    "    if choice=='1':\n",
    "        file=open(\"Salaries.csv\",\"a\")\n",
    "        writer=csv.writer(file)\n",
    "        name=input(\"your name:\")\n",
    "        salary=input(\"your salary:\")\n",
    "        writer.writerow([name,salary])\n",
    "        file.close()\n",
    "        choice=input(\"enter 1?2?3?\")\n",
    "    elif choice=='2':\n",
    "        file=open(\"Salaries.csv\",\"r\")\n",
    "        reader=csv.reader(file)\n",
    "        for row in reader:\n",
    "            print(row)\n",
    "        file.close()\n",
    "        choice=input(\"enter 1?2?3?\")\n",
    "    else:\n",
    "        print(\"error\")\n",
    "        choice=input(\"enter 1?2?3?\")\n",
    "        "
   ]
  },
  {
   "cell_type": "code",
   "execution_count": 2,
   "id": "9dbec8f9-ba0c-4fc8-b4bb-5d13d95ddb85",
   "metadata": {},
   "outputs": [
    {
     "name": "stdin",
     "output_type": "stream",
     "text": [
      "enter 1?2?3?4 2\n"
     ]
    },
    {
     "name": "stdout",
     "output_type": "stream",
     "text": [
      "['joey', '￡32,240']\n",
      "[]\n",
      "['varsha', '￡30,867']\n"
     ]
    },
    {
     "name": "stdin",
     "output_type": "stream",
     "text": [
      "enter 1?2?3? 4\n"
     ]
    }
   ],
   "source": [
    "import csv\n",
    "def add_to_file():\n",
    "    file=open(\"Salaries.csv\",\"a\",newline=\"\")\n",
    "    writer=csv.writer(file)\n",
    "    \n",
    "    name=input(\"your name:\")\n",
    "    salary=input(\"your salary:\")\n",
    "    \n",
    "    writer.writerow([name,salary])\n",
    "    file.close()\n",
    "def view_all_records():\n",
    "    file=open(\"Salaries.csv\",\"r\")\n",
    "    reader=csv.reader(file)\n",
    "    for row in reader:\n",
    "        print(row)\n",
    "    file.close()\n",
    "def delete_a_record():\n",
    "    name_to_delete=input(\"enter name to delete:\")\n",
    "    tmp=[]\n",
    "    file=open(\"Salaries.csv\",\"r\")\n",
    "    reader=csv.reader(file)\n",
    "    for row in reader:\n",
    "        tmp.append(row)\n",
    "    new_tmp=[]\n",
    "    for row in tmp:\n",
    "        if row[0]!=name_to_delete:\n",
    "            new_tmp.append(row)\n",
    "    tmp=new_tmp\n",
    "    file.close()\n",
    "    rewrite_csv(tmp)\n",
    "def rewrite_csv(data,filename=\"Salaries.csv\"):\n",
    "    file=open(filename,\"w\",newline=\"\")\n",
    "    writer=csv.writer(file)\n",
    "    writer.writerows(data)\n",
    "    file.close()\n",
    "def main_menu():\n",
    "    choice=input(\"enter 1?2?3?4\")\n",
    "    while choice!='4':\n",
    "        if choice=='1':\n",
    "            add_to_file()\n",
    "            choice=input(\"enter 1?2?3?\")\n",
    "        elif choice=='2':\n",
    "            view_all_records()\n",
    "            choice=input(\"enter 1?2?3?\")\n",
    "        elif choice=='3':\n",
    "            delete_a_record()\n",
    "            choice=input(\"enter 1?2?3?\")\n",
    "        else:\n",
    "            print(\"error\")\n",
    "            choice=input(\"enter 1?2?3?\")\n",
    "\n",
    "main_menu()\n",
    "    "
   ]
  },
  {
   "cell_type": "code",
   "execution_count": null,
   "id": "a844178b-d6da-45c9-982a-c049d1241460",
   "metadata": {},
   "outputs": [],
   "source": []
  },
  {
   "cell_type": "code",
   "execution_count": null,
   "id": "28dfc5ac-a007-4182-85b0-3bfecbdd1a12",
   "metadata": {},
   "outputs": [],
   "source": []
  }
 ],
 "metadata": {
  "kernelspec": {
   "display_name": "Python 3 (ipykernel)",
   "language": "python",
   "name": "python3"
  },
  "language_info": {
   "codemirror_mode": {
    "name": "ipython",
    "version": 3
   },
   "file_extension": ".py",
   "mimetype": "text/x-python",
   "name": "python",
   "nbconvert_exporter": "python",
   "pygments_lexer": "ipython3",
   "version": "3.8.20"
  }
 },
 "nbformat": 4,
 "nbformat_minor": 5
}
