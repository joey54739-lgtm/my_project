{
 "cells": [
  {
   "cell_type": "code",
   "execution_count": null,
   "id": "3e686378-648a-47aa-8a15-e3f85d836349",
   "metadata": {},
   "outputs": [],
   "source": [
    "name=input(\"enter your name\")\n",
    "num=int(input(\"enter a number\"))\n",
    "if num<10:\n",
    "    for i in range(num):\n",
    "        print(name)\n",
    "else:\n",
    "    for i in range(3):\n",
    "        print(\"Too high\")"
   ]
  },
  {
   "cell_type": "code",
   "execution_count": null,
   "id": "2b0d7275-9846-412f-8287-bb2c5a401ffc",
   "metadata": {},
   "outputs": [],
   "source": [
    "total=0\n",
    "for i in range(5):\n",
    "    number=float(input(\"enter a number\"))\n",
    "    choice=input(\"if you want that number to be included?y or n\")\n",
    "    if(choice==\"y\"):\n",
    "        total+=number\n",
    "print(total)"
   ]
  },
  {
   "cell_type": "code",
   "execution_count": null,
   "id": "93f4b448-484f-4ca4-a70e-fd2a3542cec7",
   "metadata": {},
   "outputs": [],
   "source": [
    "direction=input(\"which direction you want to count (up or down?)\")\n",
    "if(direction==\"up\"):\n",
    "    top=int(input(\"enter a top number\"))\n",
    "    for i in range(1,top+1):\n",
    "        print(i)\n",
    "elif(direction==\"down\"):\n",
    "    number=int(input(\" enter a number below 20\"))\n",
    "    for i in range(20,number-1,-1):\n",
    "        print(i)\n",
    "else:\n",
    "    print(\"i don't understand\")\n",
    "        "
   ]
  },
  {
   "cell_type": "code",
   "execution_count": null,
   "id": "a0fd8884-cc4f-4dc9-913d-bc3b02803037",
   "metadata": {},
   "outputs": [],
   "source": [
    "a=int(input(\"enter a number\"))\n",
    "b=int(input(\"enter another number\"))\n",
    "total=a+b\n",
    "while True:\n",
    "    choice=input(\"if you want to add another number\")\n",
    "    if choice==\"y\":\n",
    "        c=int(input(\"enter another number\"))\n",
    "        total+=c\n",
    "    else:\n",
    "        break\n",
    "print(total)"
   ]
  },
  {
   "cell_type": "markdown",
   "id": "deebb502-d81e-4ef7-964f-d061ef33ba6a",
   "metadata": {},
   "source": [
    "## 5 – Guessing Game\n",
    "Create a variable called compnum and set the value to 50. Ask the user to enter a number. While their guess is not the same as the compnum value, tell them if their guess is too high or too low and ask them to have another guess. If they enter the same value as compnum, display the message “Well done, you took [count] attempts”."
   ]
  },
  {
   "cell_type": "code",
   "execution_count": 10,
   "id": "9ff217e2-b6bc-4623-bda4-f7ae5e61fd86",
   "metadata": {},
   "outputs": [
    {
     "name": "stdin",
     "output_type": "stream",
     "text": [
      "enter a number 3\n"
     ]
    },
    {
     "name": "stdout",
     "output_type": "stream",
     "text": [
      "too low_have another guess\n"
     ]
    },
    {
     "name": "stdin",
     "output_type": "stream",
     "text": [
      "enter a number 48\n"
     ]
    },
    {
     "name": "stdout",
     "output_type": "stream",
     "text": [
      "too low_have another guess\n"
     ]
    },
    {
     "name": "stdin",
     "output_type": "stream",
     "text": [
      "enter a number 52\n"
     ]
    },
    {
     "name": "stdout",
     "output_type": "stream",
     "text": [
      "too high_have another guess\n"
     ]
    },
    {
     "name": "stdin",
     "output_type": "stream",
     "text": [
      "enter a number 50\n"
     ]
    },
    {
     "name": "stdout",
     "output_type": "stream",
     "text": [
      "Well done, you took 4 attempts\n"
     ]
    }
   ],
   "source": [
    "compnum=50\n",
    "count=0\n",
    "guess=int(input(\"enter a number\"))\n",
    "count+=1 #If the first guess is correct → loop never runs, but count = 1 records it.\n",
    "while guess!=compnum:\n",
    "    if guess<compnum:\n",
    "        print(\"too low_have another guess\")\n",
    "    else:\n",
    "        print(\"too high_have another guess\")\n",
    "    count+=1 # Each guess is counted. The first guess outside the loop ensures the initial attempt is recorded.\n",
    "    guess=int(input(\"enter a number\")) \n",
    "print(f\"Well done, you took {count} attempts\")\n"
   ]
  },
  {
   "cell_type": "markdown",
   "id": "b8ec8f23-31f2-40b3-81fa-e842c9eb36a1",
   "metadata": {},
   "source": [
    "**Issue 1: the loop runs indefinitely**\n",
    "  - If `guess` is not updated inside the loop → it always holds the same value.  \n",
    "  - **Result:** Variable never updates.\n",
    "\n",
    "**Issue 2: total attempts are 1 short**\n",
    "  - The first correct guess is not counted \n",
    "\n",
    "The last correct guess **is naturally counted** because **the loop counts attempts only during the loop**\n",
    "The relative order of `count += 1` and `guess=int(input(\"enter a number\"))` inside the loop does not affect total count, as long as the first guess is handled correctly.\n",
    "\n",
    "**Fix:**  \n",
    "Place **all attempts inside** the loop (works only if the first guess is incorrect)\n",
    "or add an initial `count = 1` outside the loop to record the first try.\n"
   ]
  },
  {
   "cell_type": "code",
   "execution_count": 9,
   "id": "f7582aeb-266a-47c2-a871-55db78ef9846",
   "metadata": {},
   "outputs": [
    {
     "name": "stdin",
     "output_type": "stream",
     "text": [
      "enter a number 3\n"
     ]
    },
    {
     "name": "stdout",
     "output_type": "stream",
     "text": [
      "too low_have another guess\n"
     ]
    },
    {
     "name": "stdin",
     "output_type": "stream",
     "text": [
      "enter a number 48\n"
     ]
    },
    {
     "name": "stdout",
     "output_type": "stream",
     "text": [
      "too low_have another guess\n"
     ]
    },
    {
     "name": "stdin",
     "output_type": "stream",
     "text": [
      "enter a number 52\n"
     ]
    },
    {
     "name": "stdout",
     "output_type": "stream",
     "text": [
      "too high_have another guess\n"
     ]
    },
    {
     "name": "stdin",
     "output_type": "stream",
     "text": [
      "enter a number 50\n"
     ]
    },
    {
     "name": "stdout",
     "output_type": "stream",
     "text": [
      "Well done, you took 4 attempts\n"
     ]
    }
   ],
   "source": [
    "compnum=50\n",
    "count=0\n",
    "guess=int(input(\"enter a number\"))\n",
    "count+=1\n",
    "while guess!=compnum:\n",
    "    if guess<compnum:\n",
    "        print(\"too low_have another guess\")\n",
    "    else:\n",
    "        print(\"too high_have another guess\")\n",
    "    guess=int(input(\"enter a number\")) \n",
    "    count+=1\n",
    "print(f\"Well done, you took {count} attempts\")"
   ]
  },
  {
   "cell_type": "code",
   "execution_count": null,
   "id": "55c27abc-abd2-4c42-922b-7cd64a0c227e",
   "metadata": {},
   "outputs": [],
   "source": [
    "compnum=50\n",
    "count=0\n",
    "guess=-1\n",
    "while guess!=compnum:\n",
    "    guess=int(input(\"enter a number\"))\n",
    "    count+=1\n",
    "    if guess<compnum:\n",
    "        print(\"too low_have another guess\")\n",
    "    elif guess>compnum:\n",
    "        print(\"too high_have another guess\")\n",
    "print(f\"Well done, you took {count} attempts\")\n",
    "    "
   ]
  },
  {
   "cell_type": "markdown",
   "id": "5d975520-229a-41aa-a790-84d981c9440f",
   "metadata": {},
   "source": [
    "#### Key takeaway\n",
    "The update inside the loop (e.g., `guess = int(input(...))`)  \n",
    "  affects the **next condition check**, not the current one.\n",
    "- That’s why the first condition check uses your initial value,  \n",
    "  and later checks use the updated values."
   ]
  },
  {
   "cell_type": "markdown",
   "id": "ad767234-d0a9-4e06-ac6f-27604f0462a1",
   "metadata": {},
   "source": [
    "## Function exercises"
   ]
  },
  {
   "cell_type": "code",
   "execution_count": 14,
   "id": "d2473bf8-bdcc-485d-84c2-2dd43b80005e",
   "metadata": {},
   "outputs": [
    {
     "name": "stdin",
     "output_type": "stream",
     "text": [
      "enter a number 3\n"
     ]
    },
    {
     "name": "stdout",
     "output_type": "stream",
     "text": [
      "1\n",
      "2\n",
      "3\n"
     ]
    }
   ],
   "source": [
    "def get_num():\n",
    "    num=int(input(\"enter a number\"))\n",
    "    return num\n",
    "def count_to_num(num):\n",
    "    for i in range(1,num+1):\n",
    "        print(i)\n",
    "num=get_num()\n",
    "count_to_num(num)"
   ]
  },
  {
   "cell_type": "code",
   "execution_count": null,
   "id": "b8a824b5-b560-4c71-b3c5-b12920557637",
   "metadata": {},
   "outputs": [],
   "source": [
    "def show_menu():\n",
    "    print(\"1. Add a name\")\n",
    "    print(\"2. Change a name\")\n",
    "    print(\"3. Delete a name\")\n",
    "    print(\"4. View all names\")\n",
    "    print(\"5. Exit\")\n",
    "def add_name(names):\n",
    "    name=input(\"enter a name to add\")\n",
    "    names.append(name)\n",
    "def change_name(names):\n",
    "    tmp=input(\"enter a name you want to change\")\n",
    "    if tmp in names:\n",
    "        index=names.index(tmp)\n",
    "        new_name=input(\"enter a new_name\")\n",
    "        names[index]=new_name\n",
    "    else:\n",
    "        print(\"the name is not in the namelist\")\n",
    "def view_names(names):\n",
    "    if names:\n",
    "        for name in names:\n",
    "            print(name)\n",
    "    else:\n",
    "        print(\"the namelist is empty\")\n",
    "def main():\n",
    "    names=[]\n",
    "    while True:\n",
    "        show_menu()\n",
    "        choice=input(\"select an option\")\n",
    "        if choice == \"1\":\n",
    "            add_name(names)\n",
    "        elif choice == \"2\":\n",
    "            change_name(names)\n",
    "        elif choice == \"3\":\n",
    "            delete_name(names)\n",
    "        elif choice == \"4\":\n",
    "            view_names(names)\n",
    "        elif choice == \"5\":\n",
    "            break\n",
    "        else:\n",
    "            print(\"invalid option, please try again.\") \n",
    "main()"
   ]
  },
  {
   "cell_type": "markdown",
   "id": "3ba157ed-00d9-466d-8593-efe40fa9f878",
   "metadata": {},
   "source": [
    "#### 1. removes the first occurrence of x from the list, then adds the new one using append at the end (order may change)\n",
    "#### 2. swap two elements by storing one in a temporary variable\n",
    "`tmp = names[0]\n",
    "names[0] = names[1]\n",
    "names[1] = tmp`\n",
    "#### 3. modify using index \n",
    "find the index of the old name and replace it (**order stays the same**)\n",
    "#### 4. del list[index] → deletes the element at a specific index\n"
   ]
  },
  {
   "cell_type": "code",
   "execution_count": 6,
   "id": "80a424bd-fb2e-4abd-be79-ede6efa1a8a2",
   "metadata": {},
   "outputs": [
    {
     "name": "stdout",
     "output_type": "stream",
     "text": [
      "111\n",
      "222\n",
      "333\n",
      "444\n"
     ]
    },
    {
     "name": "stdin",
     "output_type": "stream",
     "text": [
      "enter a three-digital number 1\n"
     ]
    },
    {
     "name": "stdout",
     "output_type": "stream",
     "text": [
      "That's not in the list\n"
     ]
    }
   ],
   "source": [
    "numbers=[111,222,333,444]\n",
    "def show_numbers():\n",
    "    if numbers:\n",
    "        for number in numbers:\n",
    "            print(number)\n",
    "    else:\n",
    "        print(\"the list is empty\")\n",
    "def main():\n",
    "    show_numbers()\n",
    "    number=input(\"enter a three-digital number\")\n",
    "    if number in numbers:\n",
    "        index=numbers.index(number)\n",
    "        print(index)\n",
    "    else:\n",
    "        print(\"That's not in the list\")\n",
    "main()"
   ]
  },
  {
   "cell_type": "code",
   "execution_count": null,
   "id": "028f9e26-6f43-4690-9455-ba1fb3dee261",
   "metadata": {},
   "outputs": [],
   "source": [
    "names_invite=[]\n",
    "for i in range(3):\n",
    "    name=input(\"enter people's name you want to invite\")\n",
    "    names_invite.append(name)\n",
    "choice=input(\"if want to add another\")\n",
    "if choice=='yes':\n",
    "    while choice!='no':\n",
    "        name=input(\"enter people's name you want to invite\")\n",
    "        choice=input(\"if want to add another\")\n",
    "    #print(names_invite.len())\n",
    "    print(len(names_invite))\n",
    "elif choice=='no':\n",
    "    #print(names_invite.len())\n",
    "    print(len(names_invite))\n",
    "else:\n",
    "    print(\"invalid input\")\n",
    "    choice=input(\"if want to add another\")\n",
    "    "
   ]
  },
  {
   "cell_type": "markdown",
   "id": "a7e0fe1d-c3f9-4c6d-a2a4-2ff6b2c8940e",
   "metadata": {},
   "source": [
    "func"
   ]
  },
  {
   "cell_type": "code",
   "execution_count": null,
   "id": "6a8d5151-3990-45ba-85d4-1d54be239579",
   "metadata": {},
   "outputs": [],
   "source": [
    "foods={}\n",
    "for i in range(1,5):\n",
    "    foods[i]=input(\"enter your favourite food\")\n",
    "print(foods)\n",
    "dis_food=input(\"which key-value pair you want to remove\")\n",
    "if dis_food in foods:\n",
    "    foods.remove(dis_food)\n",
    "else:\n",
    "    print(\"That's not in the dictionary\")\n",
    "foods.sort()\n",
    "print(foods)"
   ]
  },
  {
   "cell_type": "code",
   "execution_count": 18,
   "id": "3cef5a03-ab3d-40d2-9116-f2cfd6813aea",
   "metadata": {},
   "outputs": [
    {
     "name": "stdout",
     "output_type": "stream",
     "text": [
      "('UK', 'US', 'France', 'Germany', 'Hungary')\n"
     ]
    },
    {
     "name": "stdin",
     "output_type": "stream",
     "text": [
      "enter one of the countries that have been shown UK\n"
     ]
    },
    {
     "name": "stdout",
     "output_type": "stream",
     "text": [
      "0\n"
     ]
    },
    {
     "name": "stdin",
     "output_type": "stream",
     "text": [
      "enter a number(index) 5\n"
     ]
    },
    {
     "name": "stdout",
     "output_type": "stream",
     "text": [
      "invalid input\n"
     ]
    },
    {
     "name": "stdin",
     "output_type": "stream",
     "text": [
      "enter a number(index) 6\n"
     ]
    },
    {
     "name": "stdout",
     "output_type": "stream",
     "text": [
      "invalid input\n"
     ]
    },
    {
     "name": "stdin",
     "output_type": "stream",
     "text": [
      "enter a number(index) 4\n"
     ]
    },
    {
     "name": "stdout",
     "output_type": "stream",
     "text": [
      "Hungary\n"
     ]
    }
   ],
   "source": [
    "countries=('UK','US','France','Germany','Hungary')\n",
    "print(countries)\n",
    "country=input(\"enter one of the countries that have been shown\")\n",
    "if country in countries:\n",
    "    print(countries.index(country))\n",
    "else:\n",
    "    print(\"That's not in the tuple\")\n",
    "index=int(input(\"enter a number(index)\"))\n",
    "while True:\n",
    "    if index<len(countries):\n",
    "        print(countries[index])\n",
    "        break\n",
    "    else:\n",
    "        print(\"invalid input\")\n",
    "        index=int(input(\"enter a number(index)\"))"
   ]
  },
  {
   "cell_type": "code",
   "execution_count": 26,
   "id": "78e8ade7-7aed-4f44-9739-6828bd8c01a3",
   "metadata": {},
   "outputs": [
    {
     "name": "stdin",
     "output_type": "stream",
     "text": [
      "enter row 1\n",
      "enter column 0\n"
     ]
    },
    {
     "name": "stdout",
     "output_type": "stream",
     "text": [
      "0\n"
     ]
    }
   ],
   "source": [
    "list=[[\"\",0,1,2],[0,2,5,8],[1,3,7,4],[2,1,6,9],[3,4,2,0]]\n",
    "row=int(input(\"enter row\"))\n",
    "column=int(input(\"enter column\"))\n",
    "print(list[row][column])"
   ]
  },
  {
   "cell_type": "code",
   "execution_count": 29,
   "id": "e43abc77-2384-4d68-b170-dfc7a2a4202f",
   "metadata": {},
   "outputs": [
    {
     "name": "stdin",
     "output_type": "stream",
     "text": [
      "enter row 0\n"
     ]
    },
    {
     "name": "stdout",
     "output_type": "stream",
     "text": [
      "['', 0, 1, 2]\n"
     ]
    },
    {
     "name": "stdin",
     "output_type": "stream",
     "text": [
      "enter a new value 1\n"
     ]
    },
    {
     "name": "stdout",
     "output_type": "stream",
     "text": [
      "['', 0, 1, 2, 1]\n"
     ]
    }
   ],
   "source": [
    "list=[[\"\",0,1,2],[0,2,5,8],[1,3,7,4],[2,1,6,9],[3,4,2,0]]\n",
    "row=int(input(\"enter row\"))\n",
    "print(list[row])\n",
    "new_value=int(input(\"enter a new value\"))\n",
    "list[row].append(new_value)\n",
    "print(list[row])"
   ]
  },
  {
   "cell_type": "code",
   "execution_count": null,
   "id": "f6173d2f-62c2-46e5-a920-e470cea19121",
   "metadata": {},
   "outputs": [],
   "source": [
    "list=[[\"\",0,1,2],[0,2,5,8],[1,3,7,4],[2,1,6,9],[3,4,2,0]]\n",
    "row=int(input(\"enter row\"))\n",
    "print(list[row])\n",
    "column=int(input(\"enter column in that row\"))\n",
    "print(list[row][column])\n",
    "choice=input(\"if you want to change the data\").lower()\n",
    "if choice=='y':\n",
    "    data=input(\"enter a\")\n",
    "    list[row][column]=data"
   ]
  }
 ],
 "metadata": {
  "kernelspec": {
   "display_name": "Python 3 (ipykernel)",
   "language": "python",
   "name": "python3"
  },
  "language_info": {
   "codemirror_mode": {
    "name": "ipython",
    "version": 3
   },
   "file_extension": ".py",
   "mimetype": "text/x-python",
   "name": "python",
   "nbconvert_exporter": "python",
   "pygments_lexer": "ipython3",
   "version": "3.13.5"
  }
 },
 "nbformat": 4,
 "nbformat_minor": 5
}
