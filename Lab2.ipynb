{
 "cells": [
  {
   "cell_type": "code",
   "execution_count": null,
   "id": "3e686378-648a-47aa-8a15-e3f85d836349",
   "metadata": {},
   "outputs": [],
   "source": [
    "name=input(\"enter your name\")\n",
    "num=int(input(\"enter a number\"))\n",
    "if num<10:\n",
    "    for i in range(num):\n",
    "        print(name)\n",
    "else:\n",
    "    for i in range(3):\n",
    "        print(\"Too high\")"
   ]
  },
  {
   "cell_type": "code",
   "execution_count": null,
   "id": "2b0d7275-9846-412f-8287-bb2c5a401ffc",
   "metadata": {},
   "outputs": [],
   "source": [
    "total=0\n",
    "for i in range(5):\n",
    "    number=float(input(\"enter a number\"))\n",
    "    choice=input(\"if you want that number to be included?y or n\")\n",
    "    if(choice==\"y\"):\n",
    "        total+=number\n",
    "print(total)"
   ]
  },
  {
   "cell_type": "code",
   "execution_count": null,
   "id": "93f4b448-484f-4ca4-a70e-fd2a3542cec7",
   "metadata": {},
   "outputs": [],
   "source": [
    "direction=input(\"which direction you want to count (up or down?)\")\n",
    "if(direction==\"up\"):\n",
    "    top=int(input(\"enter a top number\"))\n",
    "    for i in range(1,top+1):\n",
    "        print(i)\n",
    "elif(direction==\"down\"):\n",
    "    number=int(input(\" enter a number below 20\"))\n",
    "    for i in range(20,number-1,-1):\n",
    "        print(i)\n",
    "else:\n",
    "    print(\"i don't understand\")\n",
    "        "
   ]
  },
  {
   "cell_type": "code",
   "execution_count": null,
   "id": "a0fd8884-cc4f-4dc9-913d-bc3b02803037",
   "metadata": {},
   "outputs": [],
   "source": [
    "a=int(input(\"enter a number\"))\n",
    "b=int(input(\"enter another number\"))\n",
    "total=a+b\n",
    "while True:\n",
    "    choice=input(\"if you want to add another number\")\n",
    "    if choice==\"y\":\n",
    "        c=int(input(\"enter another number\"))\n",
    "        total+=c\n",
    "    else:\n",
    "        break\n",
    "print(total)"
   ]
  },
  {
   "cell_type": "markdown",
   "id": "deebb502-d81e-4ef7-964f-d061ef33ba6a",
   "metadata": {},
   "source": [
    "## 5 – Guessing Game\n",
    "Create a variable called compnum and set the value to 50. Ask the user to enter a number. While their guess is not the same as the compnum value, tell them if their guess is too high or too low and ask them to have another guess. If they enter the same value as compnum, display the message “Well done, you took [count] attempts”."
   ]
  },
  {
   "cell_type": "code",
   "execution_count": 10,
   "id": "9ff217e2-b6bc-4623-bda4-f7ae5e61fd86",
   "metadata": {},
   "outputs": [
    {
     "name": "stdin",
     "output_type": "stream",
     "text": [
      "enter a number 3\n"
     ]
    },
    {
     "name": "stdout",
     "output_type": "stream",
     "text": [
      "too low_have another guess\n"
     ]
    },
    {
     "name": "stdin",
     "output_type": "stream",
     "text": [
      "enter a number 48\n"
     ]
    },
    {
     "name": "stdout",
     "output_type": "stream",
     "text": [
      "too low_have another guess\n"
     ]
    },
    {
     "name": "stdin",
     "output_type": "stream",
     "text": [
      "enter a number 52\n"
     ]
    },
    {
     "name": "stdout",
     "output_type": "stream",
     "text": [
      "too high_have another guess\n"
     ]
    },
    {
     "name": "stdin",
     "output_type": "stream",
     "text": [
      "enter a number 50\n"
     ]
    },
    {
     "name": "stdout",
     "output_type": "stream",
     "text": [
      "Well done, you took 4 attempts\n"
     ]
    }
   ],
   "source": [
    "compnum=50\n",
    "count=0\n",
    "guess=int(input(\"enter a number\"))\n",
    "count+=1 #If the first guess is correct → loop never runs, but count = 1 records it.\n",
    "while guess!=compnum:\n",
    "    if guess<compnum:\n",
    "        print(\"too low_have another guess\")\n",
    "    else:\n",
    "        print(\"too high_have another guess\")\n",
    "    count+=1 # Each guess is counted. The first guess outside the loop ensures the initial attempt is recorded.\n",
    "    guess=int(input(\"enter a number\")) \n",
    "print(f\"Well done, you took {count} attempts\")\n"
   ]
  },
  {
   "cell_type": "markdown",
   "id": "b8ec8f23-31f2-40b3-81fa-e842c9eb36a1",
   "metadata": {},
   "source": [
    "**Issue 1: the loop runs indefinitely**\n",
    "  - If `guess` is not updated inside the loop → it always holds the same value.  \n",
    "  - **Result:** Variable never updates.\n",
    "\n",
    "**Issue 2: total attempts are 1 short**\n",
    "  - The first correct guess is not counted \n",
    "\n",
    "The last correct guess **is naturally counted** because **the loop counts attempts only during the loop**\n",
    "The relative order of `count += 1` and `guess=int(input(\"enter a number\"))` inside the loop does not affect total count, as long as the first guess is handled correctly.\n",
    "\n",
    "**Fix:**  \n",
    "Place **all attempts inside** the loop (works only if the first guess is incorrect)\n",
    "or add an initial `count = 1` outside the loop to record the first try.\n"
   ]
  },
  {
   "cell_type": "code",
   "execution_count": 9,
   "id": "f7582aeb-266a-47c2-a871-55db78ef9846",
   "metadata": {},
   "outputs": [
    {
     "name": "stdin",
     "output_type": "stream",
     "text": [
      "enter a number 3\n"
     ]
    },
    {
     "name": "stdout",
     "output_type": "stream",
     "text": [
      "too low_have another guess\n"
     ]
    },
    {
     "name": "stdin",
     "output_type": "stream",
     "text": [
      "enter a number 48\n"
     ]
    },
    {
     "name": "stdout",
     "output_type": "stream",
     "text": [
      "too low_have another guess\n"
     ]
    },
    {
     "name": "stdin",
     "output_type": "stream",
     "text": [
      "enter a number 52\n"
     ]
    },
    {
     "name": "stdout",
     "output_type": "stream",
     "text": [
      "too high_have another guess\n"
     ]
    },
    {
     "name": "stdin",
     "output_type": "stream",
     "text": [
      "enter a number 50\n"
     ]
    },
    {
     "name": "stdout",
     "output_type": "stream",
     "text": [
      "Well done, you took 4 attempts\n"
     ]
    }
   ],
   "source": [
    "compnum=50\n",
    "count=0\n",
    "guess=int(input(\"enter a number\"))\n",
    "count+=1\n",
    "while guess!=compnum:\n",
    "    if guess<compnum:\n",
    "        print(\"too low_have another guess\")\n",
    "    else:\n",
    "        print(\"too high_have another guess\")\n",
    "    guess=int(input(\"enter a number\")) \n",
    "    count+=1\n",
    "print(f\"Well done, you took {count} attempts\")"
   ]
  },
  {
   "cell_type": "code",
   "execution_count": null,
   "id": "55c27abc-abd2-4c42-922b-7cd64a0c227e",
   "metadata": {},
   "outputs": [],
   "source": [
    "compnum=50\n",
    "count=0\n",
    "guess=-1\n",
    "while guess!=compnum:\n",
    "    guess=int(input(\"enter a number\"))\n",
    "    count+=1\n",
    "    if guess<compnum:\n",
    "        print(\"too low_have another guess\")\n",
    "    elif guess>compnum:\n",
    "        print(\"too high_have another guess\")\n",
    "print(f\"Well done, you took {count} attempts\")\n",
    "    "
   ]
  },
  {
   "cell_type": "markdown",
   "id": "5d975520-229a-41aa-a790-84d981c9440f",
   "metadata": {},
   "source": [
    "#### Key takeaway\n",
    "The update inside the loop (e.g., `guess = int(input(...))`)  \n",
    "  affects the **next condition check**, not the current one.\n",
    "- That’s why the first condition check uses your initial value,  \n",
    "  and later checks use the updated values."
   ]
  },
  {
   "cell_type": "code",
   "execution_count": null,
   "id": "884c055b-3cba-42c1-affc-551b7d853ba4",
   "metadata": {},
   "outputs": [],
   "source": []
  }
 ],
 "metadata": {
  "kernelspec": {
   "display_name": "Python 3 (ipykernel)",
   "language": "python",
   "name": "python3"
  },
  "language_info": {
   "codemirror_mode": {
    "name": "ipython",
    "version": 3
   },
   "file_extension": ".py",
   "mimetype": "text/x-python",
   "name": "python",
   "nbconvert_exporter": "python",
   "pygments_lexer": "ipython3",
   "version": "3.8.20"
  }
 },
 "nbformat": 4,
 "nbformat_minor": 5
}
