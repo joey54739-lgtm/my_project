{
 "cells": [
  {
   "cell_type": "code",
   "execution_count": 2,
   "id": "bd79ac31-e25b-4404-994d-da8066ba0173",
   "metadata": {},
   "outputs": [
    {
     "name": "stdin",
     "output_type": "stream",
     "text": [
      "enter your name joey\n",
      "enter a number 3\n"
     ]
    },
    {
     "name": "stdout",
     "output_type": "stream",
     "text": [
      "joey\n",
      "joey\n",
      "joey\n"
     ]
    }
   ],
   "source": [
    "name=input(\"enter your name\")\n",
    "num=int(input(\"enter a number\"))\n",
    "if num<10:\n",
    "    for i in range(num):\n",
    "        print(name)\n",
    "else:\n",
    "    for i in range(3):\n",
    "        print(\"Too high\")"
   ]
  },
  {
   "cell_type": "code",
   "execution_count": 4,
   "id": "71097ab5-57f4-4df3-b3b4-f2b62384e9a0",
   "metadata": {},
   "outputs": [
    {
     "name": "stdin",
     "output_type": "stream",
     "text": [
      "enter a number 0\n",
      "if you want that number to be included?y or n y\n",
      "enter a number 1\n",
      "if you want that number to be included?y or n y\n",
      "enter a number 1\n",
      "if you want that number to be included?y or n y\n",
      "enter a number 1\n",
      "if you want that number to be included?y or n y\n",
      "enter a number 2\n",
      "if you want that number to be included?y or n n\n"
     ]
    },
    {
     "name": "stdout",
     "output_type": "stream",
     "text": [
      "3.0\n"
     ]
    }
   ],
   "source": [
    "total=0\n",
    "for i in range(5):\n",
    "    number=float(input(\"enter a number\"))\n",
    "    choice=input(\"if you want that number to be included?y or n\")\n",
    "    if(choice==\"y\"):\n",
    "        total+=number\n",
    "print(total)"
   ]
  },
  {
   "cell_type": "code",
   "execution_count": 8,
   "id": "d922096a-adfb-4eef-8186-243fa368b271",
   "metadata": {},
   "outputs": [
    {
     "name": "stdin",
     "output_type": "stream",
     "text": [
      "which direction you want to count (up or down?) down\n",
      " enter a number below 20 8\n"
     ]
    },
    {
     "name": "stdout",
     "output_type": "stream",
     "text": [
      "20\n",
      "19\n",
      "18\n",
      "17\n",
      "16\n",
      "15\n",
      "14\n",
      "13\n",
      "12\n",
      "11\n",
      "10\n",
      "9\n",
      "8\n"
     ]
    }
   ],
   "source": [
    "direction=input(\"which direction you want to count (up or down?)\")\n",
    "if(direction==\"up\"):\n",
    "    top=int(input(\"enter a top number\"))\n",
    "    for i in range(1,top+1):\n",
    "        print(i)\n",
    "elif(direction==\"down\"):\n",
    "    number=int(input(\" enter a number below 20\"))\n",
    "    for i in range(20,number-1,-1):\n",
    "        print(i)\n",
    "else:\n",
    "    print(\"i don't understand\")\n",
    "        "
   ]
  },
  {
   "cell_type": "code",
   "execution_count": 11,
   "id": "89669484-47cf-4f90-8a92-5fa3738f1ec4",
   "metadata": {},
   "outputs": [
    {
     "name": "stdin",
     "output_type": "stream",
     "text": [
      "enter a number 1\n",
      "enter another number 2\n",
      "if you want to add another number y\n",
      "enter another number 3\n",
      "if you want to add another number y\n",
      "enter another number 4\n",
      "if you want to add another number n\n"
     ]
    },
    {
     "name": "stdout",
     "output_type": "stream",
     "text": [
      "10\n"
     ]
    }
   ],
   "source": [
    "a=int(input(\"enter a number\"))\n",
    "b=int(input(\"enter another number\"))\n",
    "total=a+b\n",
    "while True:\n",
    "    choice=input(\"if you want to add another number\")\n",
    "    if choice==\"y\":\n",
    "        c=int(input(\"enter another number\"))\n",
    "        total+=c\n",
    "    else:\n",
    "        break\n",
    "print(total)"
   ]
  },
  {
   "cell_type": "code",
   "execution_count": 14,
   "id": "a9c26b53-f977-4a50-b66d-4628b484b2e9",
   "metadata": {},
   "outputs": [
    {
     "name": "stdin",
     "output_type": "stream",
     "text": [
      "enter a number 40\n"
     ]
    },
    {
     "name": "stdout",
     "output_type": "stream",
     "text": [
      "too low_have another guess\n"
     ]
    },
    {
     "name": "stdin",
     "output_type": "stream",
     "text": [
      "enter a number 45\n"
     ]
    },
    {
     "name": "stdout",
     "output_type": "stream",
     "text": [
      "too low_have another guess\n"
     ]
    },
    {
     "name": "stdin",
     "output_type": "stream",
     "text": [
      "enter a number 50\n"
     ]
    },
    {
     "name": "stdout",
     "output_type": "stream",
     "text": [
      "Well done, you took 2 attempts\n"
     ]
    }
   ],
   "source": [
    "compnum=50\n",
    "count=0\n",
    "guess=int(input(\"enter a number\"))\n",
    "while guess!=compnum:\n",
    "    if guess<compnum:\n",
    "        print(\"too low_have another guess\")\n",
    "    else:\n",
    "        print(\"too high_have another guess\")\n",
    "    count+=1\n",
    "    guess=int(input(\"enter a number\"))\n",
    "print(f\"Well done, you took {count} attempts\")\n"
   ]
  },
  {
   "cell_type": "code",
   "execution_count": null,
   "id": "b52f91a9-222a-441e-a2cf-400ec5ecd44f",
   "metadata": {},
   "outputs": [],
   "source": []
  }
 ],
 "metadata": {
  "kernelspec": {
   "display_name": "Python 3 (ipykernel)",
   "language": "python",
   "name": "python3"
  },
  "language_info": {
   "codemirror_mode": {
    "name": "ipython",
    "version": 3
   },
   "file_extension": ".py",
   "mimetype": "text/x-python",
   "name": "python",
   "nbconvert_exporter": "python",
   "pygments_lexer": "ipython3",
   "version": "3.13.5"
  }
 },
 "nbformat": 4,
 "nbformat_minor": 5
}
