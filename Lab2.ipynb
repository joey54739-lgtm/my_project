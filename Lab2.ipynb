{
 "cells": [
  {
   "cell_type": "code",
   "execution_count": null,
   "id": "3e686378-648a-47aa-8a15-e3f85d836349",
   "metadata": {},
   "outputs": [],
   "source": [
    "name=input(\"enter your name\")\n",
    "num=int(input(\"enter a number\"))\n",
    "if num<10:\n",
    "    for i in range(num):\n",
    "        print(name)\n",
    "else:\n",
    "    for i in range(3):\n",
    "        print(\"Too high\")"
   ]
  },
  {
   "cell_type": "code",
   "execution_count": 8,
   "id": "2b0d7275-9846-412f-8287-bb2c5a401ffc",
   "metadata": {},
   "outputs": [
    {
     "name": "stdin",
     "output_type": "stream",
     "text": [
      "enter a number 3\n",
      "if you want that number to be included?y or n y\n",
      "enter a number 4.7\n",
      "if you want that number to be included?y or n y\n",
      "enter a number 4\n",
      "if you want that number to be included?y or n n\n",
      "enter a number 4\n",
      "if you want that number to be included?y or n n\n",
      "enter a number 4\n",
      "if you want that number to be included?y or n n\n"
     ]
    },
    {
     "name": "stdout",
     "output_type": "stream",
     "text": [
      "7.7\n"
     ]
    }
   ],
   "source": [
    "total=0\n",
    "for i in range(5):\n",
    "    number=float(input(\"enter a number\"))\n",
    "    choice=input(\"if you want that number to be included?y or n\")\n",
    "    if(choice==\"y\"):\n",
    "        total+=number\n",
    "print(total)"
   ]
  },
  {
   "cell_type": "code",
   "execution_count": null,
   "id": "93f4b448-484f-4ca4-a70e-fd2a3542cec7",
   "metadata": {},
   "outputs": [],
   "source": [
    "direction=input(\"which direction you want to count (up or down?)\")\n",
    "if(direction==\"up\"):\n",
    "    top=int(input(\"enter a top number\"))\n",
    "    for i in range(1,top+1):\n",
    "        print(i)\n",
    "elif(direction==\"down\"):\n",
    "    number=int(input(\" enter a number below 20\"))\n",
    "    for i in range(20,number-1,-1):\n",
    "        print(i)\n",
    "else:\n",
    "    print(\"i don't understand\")\n",
    "        "
   ]
  },
  {
   "cell_type": "code",
   "execution_count": null,
   "id": "a0fd8884-cc4f-4dc9-913d-bc3b02803037",
   "metadata": {},
   "outputs": [],
   "source": [
    "a=int(input(\"enter a number\"))\n",
    "b=int(input(\"enter another number\"))\n",
    "total=a+b\n",
    "while True:\n",
    "    choice=input(\"if you want to add another number\")\n",
    "    if choice==\"y\":\n",
    "        c=int(input(\"enter another number\"))\n",
    "        total+=c\n",
    "    else:\n",
    "        break\n",
    "print(total)"
   ]
  },
  {
   "cell_type": "markdown",
   "id": "deebb502-d81e-4ef7-964f-d061ef33ba6a",
   "metadata": {},
   "source": [
    "## 5 – Guessing Game\n",
    "Create a variable called compnum and set the value to 50. Ask the user to enter a number. While their guess is not the same as the compnum value, tell them if their guess is too high or too low and ask them to have another guess. If they enter the same value as compnum, display the message “Well done, you took [count] attempts”."
   ]
  },
  {
   "cell_type": "code",
   "execution_count": 10,
   "id": "9ff217e2-b6bc-4623-bda4-f7ae5e61fd86",
   "metadata": {},
   "outputs": [
    {
     "name": "stdin",
     "output_type": "stream",
     "text": [
      "enter a number 3\n"
     ]
    },
    {
     "name": "stdout",
     "output_type": "stream",
     "text": [
      "too low_have another guess\n"
     ]
    },
    {
     "name": "stdin",
     "output_type": "stream",
     "text": [
      "enter a number 48\n"
     ]
    },
    {
     "name": "stdout",
     "output_type": "stream",
     "text": [
      "too low_have another guess\n"
     ]
    },
    {
     "name": "stdin",
     "output_type": "stream",
     "text": [
      "enter a number 52\n"
     ]
    },
    {
     "name": "stdout",
     "output_type": "stream",
     "text": [
      "too high_have another guess\n"
     ]
    },
    {
     "name": "stdin",
     "output_type": "stream",
     "text": [
      "enter a number 50\n"
     ]
    },
    {
     "name": "stdout",
     "output_type": "stream",
     "text": [
      "Well done, you took 4 attempts\n"
     ]
    }
   ],
   "source": [
    "compnum=50\n",
    "count=0\n",
    "guess=int(input(\"enter a number\"))\n",
    "count+=1 #If the first guess is correct → loop never runs, but count = 1 records it.\n",
    "while guess!=compnum:\n",
    "    if guess<compnum:\n",
    "        print(\"too low_have another guess\")\n",
    "    else:\n",
    "        print(\"too high_have another guess\")\n",
    "    count+=1 # Each guess is counted. The first guess outside the loop ensures the initial attempt is recorded.\n",
    "    guess=int(input(\"enter a number\")) \n",
    "print(f\"Well done, you took {count} attempts\")\n"
   ]
  },
  {
   "cell_type": "markdown",
   "id": "b8ec8f23-31f2-40b3-81fa-e842c9eb36a1",
   "metadata": {},
   "source": [
    "**Issue 1: the loop runs indefinitely**\n",
    "  - If `guess` is not updated inside the loop → it always holds the same value.  \n",
    "  - **Result:** Variable never updates.\n",
    "\n",
    "**Issue 2: total attempts are 1 short**\n",
    "  - The first correct guess is not counted \n",
    "\n",
    "The last correct guess **is naturally counted** because **the loop counts attempts only during the loop**\n",
    "The relative order of `count += 1` and `guess=int(input(\"enter a number\"))` inside the loop does not affect total count, as long as the first guess is handled correctly.\n",
    "\n",
    "**Fix:**  \n",
    "Place **all attempts inside** the loop (works only if the first guess is incorrect)\n",
    "or add an initial `count = 1` outside the loop to record the first try.\n"
   ]
  },
  {
   "cell_type": "code",
   "execution_count": 9,
   "id": "f7582aeb-266a-47c2-a871-55db78ef9846",
   "metadata": {},
   "outputs": [
    {
     "name": "stdin",
     "output_type": "stream",
     "text": [
      "enter a number 3\n"
     ]
    },
    {
     "name": "stdout",
     "output_type": "stream",
     "text": [
      "too low_have another guess\n"
     ]
    },
    {
     "name": "stdin",
     "output_type": "stream",
     "text": [
      "enter a number 48\n"
     ]
    },
    {
     "name": "stdout",
     "output_type": "stream",
     "text": [
      "too low_have another guess\n"
     ]
    },
    {
     "name": "stdin",
     "output_type": "stream",
     "text": [
      "enter a number 52\n"
     ]
    },
    {
     "name": "stdout",
     "output_type": "stream",
     "text": [
      "too high_have another guess\n"
     ]
    },
    {
     "name": "stdin",
     "output_type": "stream",
     "text": [
      "enter a number 50\n"
     ]
    },
    {
     "name": "stdout",
     "output_type": "stream",
     "text": [
      "Well done, you took 4 attempts\n"
     ]
    }
   ],
   "source": [
    "compnum=50\n",
    "count=0\n",
    "guess=int(input(\"enter a number\"))\n",
    "count+=1\n",
    "while guess!=compnum:\n",
    "    if guess<compnum:\n",
    "        print(\"too low_have another guess\")\n",
    "    else:\n",
    "        print(\"too high_have another guess\")\n",
    "    guess=int(input(\"enter a number\")) \n",
    "    count+=1\n",
    "print(f\"Well done, you took {count} attempts\")"
   ]
  },
  {
   "cell_type": "code",
   "execution_count": null,
   "id": "55c27abc-abd2-4c42-922b-7cd64a0c227e",
   "metadata": {},
   "outputs": [],
   "source": [
    "compnum=50\n",
    "count=0\n",
    "guess=-1\n",
    "while guess!=compnum:\n",
    "    guess=int(input(\"enter a number\"))\n",
    "    count+=1\n",
    "    if guess<compnum:\n",
    "        print(\"too low_have another guess\")\n",
    "    elif guess>compnum:\n",
    "        print(\"too high_have another guess\")\n",
    "print(f\"Well done, you took {count} attempts\")\n",
    "    "
   ]
  },
  {
   "cell_type": "markdown",
   "id": "5d975520-229a-41aa-a790-84d981c9440f",
   "metadata": {},
   "source": [
    "#### Key takeaway\n",
    "The update inside the loop (e.g., `guess = int(input(...))`)  \n",
    "  affects the **next condition check**, not the current one.\n",
    "- That’s why the first condition check uses your initial value,  \n",
    "  and later checks use the updated values."
   ]
  },
  {
   "cell_type": "markdown",
   "id": "ee187933-26a7-453d-b9e2-bceee1f90126",
   "metadata": {},
   "source": [
    "## 6 – Using the song “10 green bottles”\n",
    "display the lines “There are [num] green bottles hanging on\n",
    "the wall, [num] green bottle hanging on the wall, and is 1 green bottle should accidentally fall”. Then\n",
    "ask the question “how many green bottles will be hanging on the wall?” If the user answers\n",
    "correctly, display the message “There will be [num] green bottles hanging on the wall”. If they\n",
    "answer incorrectly, display the message “No, try again” until they get it right. When the number of\n",
    "green bottles gets down to 0, display the message “There are no more green bottles hanging on the\n",
    "wall”."
   ]
  },
  {
   "cell_type": "code",
   "execution_count": null,
   "id": "4cc73631-1b79-472d-a508-747aba9120f2",
   "metadata": {},
   "outputs": [],
   "source": [
    "num=10\n",
    "while num>0:\n",
    "    print(f\"There are {num} green bottles hanging on the wall,\")\n",
    "    print(f\"{num} green bottles hanging on the wall,\")\n",
    "    print(\"and if 1 green bottle should accidentally fall…\")\n",
    "    num=num-1\n",
    "    answer=int(input(\"How many green bottles will be hanging on the wall?\"))\n",
    "    if answer==num:\n",
    "        print(f\"There will be {num} green bottles hanging on the wall.\\n\")\n",
    "    else:\n",
    "        while answer!=num:\n",
    "            answer=int(input(\"no,try again\"))\n",
    "print(\"There are no more green bottles hanging on the wall\")"
   ]
  },
  {
   "cell_type": "markdown",
   "id": "ad767234-d0a9-4e06-ac6f-27604f0462a1",
   "metadata": {},
   "source": [
    "## Function exercises"
   ]
  },
  {
   "cell_type": "code",
   "execution_count": 14,
   "id": "d2473bf8-bdcc-485d-84c2-2dd43b80005e",
   "metadata": {},
   "outputs": [
    {
     "name": "stdin",
     "output_type": "stream",
     "text": [
      "enter a number 3\n"
     ]
    },
    {
     "name": "stdout",
     "output_type": "stream",
     "text": [
      "1\n",
      "2\n",
      "3\n"
     ]
    }
   ],
   "source": [
    "def get_num():\n",
    "    num=int(input(\"enter a number\"))\n",
    "    return num\n",
    "def count_to_num(num):\n",
    "    for i in range(1,num+1):\n",
    "        print(i)\n",
    "num=get_num()\n",
    "count_to_num(num)"
   ]
  },
  {
   "cell_type": "code",
   "execution_count": null,
   "id": "b8a824b5-b560-4c71-b3c5-b12920557637",
   "metadata": {},
   "outputs": [],
   "source": [
    "def show_menu():\n",
    "    print(\"1. Add a name\")\n",
    "    print(\"2. Change a name\")\n",
    "    print(\"3. Delete a name\")\n",
    "    print(\"4. View all names\")\n",
    "    print(\"5. Exit\")\n",
    "def add_name(names):\n",
    "    name=input(\"enter a name to add\")\n",
    "    names.append(name)\n",
    "def change_name(names):\n",
    "    tmp=input(\"enter a name you want to change\")\n",
    "    if tmp in names:\n",
    "        index=names.index(tmp)\n",
    "        new_name=input(\"enter a new_name\")\n",
    "        names[index]=new_name\n",
    "    else:\n",
    "        print(\"the name is not in the namelist\")\n",
    "def view_names(names):\n",
    "    if names:\n",
    "        for name in names:\n",
    "            print(name)\n",
    "    else:\n",
    "        print(\"the namelist is empty\")\n",
    "def main():\n",
    "    names=[]\n",
    "    while True:\n",
    "        show_menu()\n",
    "        choice=input(\"select an option\")\n",
    "        if choice == \"1\":\n",
    "            add_name(names)\n",
    "        elif choice == \"2\":\n",
    "            change_name(names)\n",
    "        elif choice == \"3\":\n",
    "            delete_name(names)\n",
    "        elif choice == \"4\":\n",
    "            view_names(names)\n",
    "        elif choice == \"5\":\n",
    "            break\n",
    "        else:\n",
    "            print(\"invalid option, please try again.\") \n",
    "main()"
   ]
  },
  {
   "cell_type": "markdown",
   "id": "10cc1435-5021-4fde-865e-dfa4eef0762e",
   "metadata": {},
   "source": [
    "#### Key Tips for “Change_Name”\n",
    "Instead of removing + appending (which may change order), use index-based replacement:\n",
    "`index=names.index(old_name)`\n",
    "\n",
    "`names[index]=new_name`\n"
   ]
  },
  {
   "cell_type": "markdown",
   "id": "4215ab0e-3c40-46bb-a2b2-d91e15898bda",
   "metadata": {},
   "source": [
    "## Random Exercises"
   ]
  },
  {
   "cell_type": "code",
   "execution_count": 21,
   "id": "1dcdbd7c-27a2-4ddf-b8c2-a77a78be9a9b",
   "metadata": {},
   "outputs": [
    {
     "name": "stdout",
     "output_type": "stream",
     "text": [
      "grape\n"
     ]
    }
   ],
   "source": [
    "import random\n",
    "fruits = [\"apple\", \"banana\", \"orange\", \"grape\", \"mango\"]\n",
    "print(random.choice(fruits))"
   ]
  },
  {
   "cell_type": "code",
   "execution_count": 25,
   "id": "93437aca-0d6d-477e-a4d9-df2c7f4e34dc",
   "metadata": {},
   "outputs": [
    {
     "name": "stdin",
     "output_type": "stream",
     "text": [
      "h or t h\n"
     ]
    },
    {
     "name": "stdout",
     "output_type": "stream",
     "text": [
      "Bad luck!\n",
      "Computer chose: tails\n"
     ]
    }
   ],
   "source": [
    "import random\n",
    "computer_choice=random.choice([\"h\",\"t\"])\n",
    "user_choice=input(\"h or t\")\n",
    "if user_choice == computer_choice:\n",
    "    print(\"You win!\")\n",
    "else:\n",
    "    print(\"Bad luck!\")\n",
    "print(\"Computer chose:\", \"heads\" if computer_choice == \"h\" else \"tails\")\n"
   ]
  },
  {
   "cell_type": "code",
   "execution_count": null,
   "id": "44669cbc-b7ac-471c-828e-ffabbfad6e62",
   "metadata": {},
   "outputs": [],
   "source": [
    "import random\n",
    "number=random.randint(1,5)\n",
    "guess = int(input(\"pick a number between 1 and 5\"))\n",
    "if guess == number:\n",
    "    print(\"Well done!\")\n",
    "else:"
   ]
  },
  {
   "cell_type": "code",
   "execution_count": 28,
   "id": "cd455beb-7fdf-46d8-bec3-d540394f6640",
   "metadata": {},
   "outputs": [
    {
     "name": "stdout",
     "output_type": "stream",
     "text": [
      "['red', 'blue', 'green', 'yellow', 'purple']\n"
     ]
    },
    {
     "name": "stdin",
     "output_type": "stream",
     "text": [
      "pick a colour blue\n"
     ]
    },
    {
     "name": "stdout",
     "output_type": "stream",
     "text": [
      "Feeling PURPLE? Try another colour!\n"
     ]
    },
    {
     "name": "stdin",
     "output_type": "stream",
     "text": [
      "pick a colour again yello\n"
     ]
    },
    {
     "name": "stdout",
     "output_type": "stream",
     "text": [
      "Feeling PURPLE? Try another colour!\n"
     ]
    },
    {
     "name": "stdin",
     "output_type": "stream",
     "text": [
      "pick a colour again purple\n"
     ]
    },
    {
     "name": "stdout",
     "output_type": "stream",
     "text": [
      "Well done\n"
     ]
    }
   ],
   "source": [
    "import random\n",
    "colours=[\"red\", \"blue\", \"green\", \"yellow\", \"purple\"]\n",
    "computer_choice=random.choice(colours)\n",
    "hint_messages = {\n",
    "    \"red\": \"I bet you are RED with anger!\",\n",
    "    \"blue\": \"You are probably feeling BLUE right now!\",\n",
    "    \"green\": \"I bet you are GREEN with envy!\",\n",
    "    \"yellow\": \"Don't feel YELLOW, try again!\",\n",
    "    \"purple\": \"Feeling PURPLE? Try another colour!\"\n",
    "}\n",
    "print(colours)\n",
    "user_choice=input(\"pick a colour\")\n",
    "while True:\n",
    "    if user_choice==computer_choice:\n",
    "        print(\"Well done\")\n",
    "        break\n",
    "    else:\n",
    "        print(hint_messages[computer_choice])\n",
    "        user_choice=input(\"pick a colour again\")"
   ]
  },
  {
   "cell_type": "markdown",
   "id": "e6f9d355-13e1-4435-86df-c415360db6ec",
   "metadata": {},
   "source": [
    "#### 1. random.choice(seq)\n",
    "- Picks a random element from a **list** / tuple / string.\n",
    "\n",
    "`fruits = [\"apple\", \"banana\", \"cherry\", \"orange\", \"pear\"]`\n",
    "`print(random.choice(fruits))`\n",
    "#### 2. pick a number between two bounds.\n",
    "`num = random.randint(1, 5)`\n",
    "print(num)   # e.g. 3"
   ]
  },
  {
   "cell_type": "markdown",
   "id": "0668414d-f381-4c58-ba65-26702298dda0",
   "metadata": {},
   "source": [
    "## Turtle Graphics exercises"
   ]
  },
  {
   "cell_type": "code",
   "execution_count": null,
   "id": "3e5d9a8c-bc25-4b8d-8834-318f8bec8c3f",
   "metadata": {},
   "outputs": [],
   "source": [
    "import turtle\n",
    "t=turtle.Turtle()\n",
    "t.circle(100)   # draw a circle with radius 100\n",
    "turtle.done()\n"
   ]
  },
  {
   "cell_type": "code",
   "execution_count": 4,
   "id": "250692ca-7939-4aea-a13b-e95ac9b8bd13",
   "metadata": {},
   "outputs": [],
   "source": [
    "import turtle\n",
    "import random\n",
    "t=turtle.Turtle()\n",
    "colours=[\"red\", \"blue\", \"green\", \"yellow\", \"purple\",\"black\"]\n",
    "for i in range(8):\n",
    "    t.color(random.choice(colours))\n",
    "    t.forward(100)\n",
    "    t.right(45)# turn 360/8 = 45 degrees\n",
    "turtle.done()"
   ]
  },
  {
   "cell_type": "code",
   "execution_count": 9,
   "id": "090ae1f4-a4aa-49fb-9383-40c69009ec55",
   "metadata": {},
   "outputs": [
    {
     "ename": "NameError",
     "evalue": "name 'length_line' is not defined",
     "output_type": "error",
     "traceback": [
      "\u001b[1;31m---------------------------------------------------------------------------\u001b[0m",
      "\u001b[1;31mNameError\u001b[0m                                 Traceback (most recent call last)",
      "Cell \u001b[1;32mIn[9], line 8\u001b[0m\n\u001b[0;32m      6\u001b[0m     lenth_line\u001b[38;5;241m=\u001b[39mrandom\u001b[38;5;241m.\u001b[39mrandint(\u001b[38;5;241m50\u001b[39m,\u001b[38;5;241m100\u001b[39m)\n\u001b[0;32m      7\u001b[0m     angle\u001b[38;5;241m=\u001b[39mrandom\u001b[38;5;241m.\u001b[39mrandint(\u001b[38;5;241m20\u001b[39m,\u001b[38;5;241m60\u001b[39m)\n\u001b[1;32m----> 8\u001b[0m     t\u001b[38;5;241m.\u001b[39mforward(\u001b[43mlength_line\u001b[49m)\n\u001b[0;32m      9\u001b[0m     t\u001b[38;5;241m.\u001b[39mright(angle)\n\u001b[0;32m     10\u001b[0m turtle\u001b[38;5;241m.\u001b[39mdone()\n",
      "\u001b[1;31mNameError\u001b[0m: name 'length_line' is not defined"
     ]
    }
   ],
   "source": [
    "import turtle\n",
    "import random\n",
    "t=turtle.Turtle()\n",
    "num_lines=random.randint(10,50)\n",
    "for i in range(num_lines):\n",
    "    lenth_line=random.randint(50,100)\n",
    "    angle=random.randint(20,60)\n",
    "    t.forward(length_line)\n",
    "    t.right(angle)\n",
    "turtle.done()"
   ]
  },
  {
   "cell_type": "markdown",
   "id": "b8cb7e57-0d2a-4cff-861b-95f62d130164",
   "metadata": {},
   "source": [
    "## **Data structure - List Exercise**"
   ]
  },
  {
   "cell_type": "code",
   "execution_count": 3,
   "id": "80a424bd-fb2e-4abd-be79-ede6efa1a8a2",
   "metadata": {},
   "outputs": [
    {
     "name": "stdout",
     "output_type": "stream",
     "text": [
      "111\n",
      "222\n",
      "333\n",
      "444\n"
     ]
    },
    {
     "name": "stdin",
     "output_type": "stream",
     "text": [
      "enter a three-digital number 333\n"
     ]
    },
    {
     "name": "stdout",
     "output_type": "stream",
     "text": [
      "2\n"
     ]
    }
   ],
   "source": [
    "numbers=[111,222,333,444]\n",
    "def show_numbers():\n",
    "    if numbers:\n",
    "        for number in numbers:\n",
    "            print(number)\n",
    "    else:\n",
    "        print(\"the list is empty\")\n",
    "def main():\n",
    "    show_numbers()\n",
    "    number=int(input(\"enter a three-digital number\"))\n",
    "    if number in numbers:\n",
    "        index=numbers.index(number)\n",
    "        print(index)\n",
    "    else:\n",
    "        print(\"That's not in the list\")\n",
    "main()"
   ]
  },
  {
   "cell_type": "markdown",
   "id": "81bfe762-3bd6-48ef-aeb7-2eb9039cad91",
   "metadata": {},
   "source": [
    "Why this fails: input() returns a string (e.g. \"111\"). The list numbers contains integers (e.g. 111). \n",
    "\n",
    "**\"111\" in [111, ...] is always False** because types differ."
   ]
  },
  {
   "cell_type": "code",
   "execution_count": null,
   "id": "028f9e26-6f43-4690-9455-ba1fb3dee261",
   "metadata": {},
   "outputs": [],
   "source": [
    "names_invite=[]\n",
    "for i in range(3):\n",
    "    name=input(\"enter people's name you want to invite\")\n",
    "    names_invite.append(name)\n",
    "choice=input(\"if want to add another\")\n",
    "if choice=='yes':\n",
    "    while choice!='no':\n",
    "        name=input(\"enter people's name you want to invite\")\n",
    "        choice=input(\"if want to add another\")\n",
    "    #print(names_invite.len())\n",
    "    print(len(names_invite))\n",
    "elif choice=='no':\n",
    "    #print(names_invite.len())\n",
    "    print(len(names_invite))\n",
    "else:\n",
    "    print(\"invalid input\")\n",
    "    choice=input(\"if want to add another\")\n",
    "    "
   ]
  },
  {
   "cell_type": "markdown",
   "id": "a7e0fe1d-c3f9-4c6d-a2a4-2ff6b2c8940e",
   "metadata": {},
   "source": [
    "func"
   ]
  },
  {
   "cell_type": "code",
   "execution_count": null,
   "id": "6a8d5151-3990-45ba-85d4-1d54be239579",
   "metadata": {},
   "outputs": [],
   "source": [
    "foods={}\n",
    "for i in range(1,5):\n",
    "    foods[i]=input(\"enter your favourite food\")\n",
    "print(foods)\n",
    "dis_food=input(\"which key-value pair you want to remove\")\n",
    "if dis_food in foods:\n",
    "    foods.remove(dis_food)\n",
    "else:\n",
    "    print(\"That's not in the dictionary\")\n",
    "foods.sort()\n",
    "print(foods)"
   ]
  },
  {
   "cell_type": "code",
   "execution_count": 18,
   "id": "3cef5a03-ab3d-40d2-9116-f2cfd6813aea",
   "metadata": {},
   "outputs": [
    {
     "name": "stdout",
     "output_type": "stream",
     "text": [
      "('UK', 'US', 'France', 'Germany', 'Hungary')\n"
     ]
    },
    {
     "name": "stdin",
     "output_type": "stream",
     "text": [
      "enter one of the countries that have been shown UK\n"
     ]
    },
    {
     "name": "stdout",
     "output_type": "stream",
     "text": [
      "0\n"
     ]
    },
    {
     "name": "stdin",
     "output_type": "stream",
     "text": [
      "enter a number(index) 5\n"
     ]
    },
    {
     "name": "stdout",
     "output_type": "stream",
     "text": [
      "invalid input\n"
     ]
    },
    {
     "name": "stdin",
     "output_type": "stream",
     "text": [
      "enter a number(index) 6\n"
     ]
    },
    {
     "name": "stdout",
     "output_type": "stream",
     "text": [
      "invalid input\n"
     ]
    },
    {
     "name": "stdin",
     "output_type": "stream",
     "text": [
      "enter a number(index) 4\n"
     ]
    },
    {
     "name": "stdout",
     "output_type": "stream",
     "text": [
      "Hungary\n"
     ]
    }
   ],
   "source": [
    "countries=('UK','US','France','Germany','Hungary')\n",
    "print(countries)\n",
    "country=input(\"enter one of the countries that have been shown\")\n",
    "if country in countries:\n",
    "    print(countries.index(country))\n",
    "else:\n",
    "    print(\"That's not in the tuple\")\n",
    "index=int(input(\"enter a number(index)\"))\n",
    "while True:\n",
    "    if index<len(countries):\n",
    "        print(countries[index])\n",
    "        break\n",
    "    else:\n",
    "        print(\"invalid input\")\n",
    "        index=int(input(\"enter a number(index)\"))"
   ]
  },
  {
   "cell_type": "markdown",
   "id": "9e110733-9ade-4744-895e-2c63cbbfb0a2",
   "metadata": {},
   "source": [
    "## Numeric Arrays"
   ]
  },
  {
   "cell_type": "code",
   "execution_count": 1,
   "id": "2968dc56-6f51-4fb1-bdb8-e43f9f646dce",
   "metadata": {},
   "outputs": [
    {
     "name": "stdin",
     "output_type": "stream",
     "text": [
      "enter a number 3\n",
      "enter a number 1\n",
      "enter a number 7\n",
      "enter a number 2\n",
      "enter a number 6\n"
     ]
    },
    {
     "name": "stdout",
     "output_type": "stream",
     "text": [
      "[1, 2, 3, 6, 7]\n",
      "[7, 6, 3, 2, 1]\n"
     ]
    }
   ],
   "source": [
    "from array import *\n",
    "#Creates an array called \"nums\"\n",
    "nums=array('i',[])\n",
    "for i in range(5):\n",
    "    num=int(input(\"enter a number\"))\n",
    "    nums.append(num)\n",
    "nums=sorted(nums)# sorted(nums) returns a **new list**, not an array\n",
    "print(nums)\n",
    "nums.reverse()\n",
    "print(nums)"
   ]
  },
  {
   "cell_type": "code",
   "execution_count": 1,
   "id": "c70f4c0b-451f-4bbd-8308-f0fc25a2ec5f",
   "metadata": {},
   "outputs": [
    {
     "name": "stdout",
     "output_type": "stream",
     "text": [
      "array('i', [25, 1, 99, 44, 58])\n",
      "25\n",
      "1\n",
      "99\n",
      "44\n",
      "58\n"
     ]
    }
   ],
   "source": [
    "from array import *\n",
    "import random\n",
    "nums=array('i',[])\n",
    "for i in range(5):\n",
    "    random_num=random.randint(1,100)\n",
    "    nums.append(random_num)\n",
    "print(nums)\n",
    "for num in nums:\n",
    "    print(num)"
   ]
  },
  {
   "cell_type": "code",
   "execution_count": 2,
   "id": "7a78de70-86bc-47bd-a107-a0a8e357d0da",
   "metadata": {},
   "outputs": [
    {
     "name": "stdin",
     "output_type": "stream",
     "text": [
      "enter a number 1\n",
      "enter a number 2\n",
      "enter a number 3\n"
     ]
    },
    {
     "name": "stdout",
     "output_type": "stream",
     "text": [
      "1\n",
      "2\n",
      "3\n",
      "4\n",
      "5\n",
      "22\n",
      "24\n",
      "83\n"
     ]
    }
   ],
   "source": [
    "from array import *\n",
    "import random\n",
    "user_nums=array(\"i\",[])\n",
    "random_nums=array(\"i\",[])\n",
    "for i in range(3):\n",
    "    num=int(input(\"enter a number\"))\n",
    "    user_nums.append(num)\n",
    "for i in range(5):\n",
    "    random_num=random.randint(1,100)\n",
    "    random_nums.append(random_num)\n",
    "user_nums.extend(random_nums)\n",
    "user_nums=sorted(user_nums)\n",
    "for num in user_nums:\n",
    "    print(num)"
   ]
  },
  {
   "cell_type": "code",
   "execution_count": 3,
   "id": "6c0a0816-b16b-4d2e-aeb5-6f9d81fae748",
   "metadata": {},
   "outputs": [
    {
     "name": "stdin",
     "output_type": "stream",
     "text": [
      "enter a number 7\n",
      "enter a number 5\n",
      "enter a number 3\n",
      "enter a number 1\n",
      "enter a number 2\n"
     ]
    },
    {
     "name": "stdout",
     "output_type": "stream",
     "text": [
      "[1, 2, 3, 5, 7]\n"
     ]
    },
    {
     "name": "stdin",
     "output_type": "stream",
     "text": [
      "select one of the numbers 3\n"
     ]
    }
   ],
   "source": [
    "from array import *\n",
    "#Creates an array called \"nums\"\n",
    "nums=array('i',[])\n",
    "for i in range(5):\n",
    "    num=int(input(\"enter a number\"))\n",
    "    nums.append(num)\n",
    "nums=sorted(nums)# sorted(nums) returns a **new list**, not an array\n",
    "print(nums)\n",
    "select_num=int(input(\"select one of the numbers\"))\n",
    "removed_nums=array('i',[])\n",
    "if select_num in nums:\n",
    "    nums.remove(select_num)\n",
    "    removed_nums.append(select_num)\n",
    "else:\n",
    "    print(\"that's not in array\")"
   ]
  },
  {
   "cell_type": "code",
   "execution_count": 5,
   "id": "a3814600-fd74-4913-b919-6816756fa1fc",
   "metadata": {},
   "outputs": [
    {
     "name": "stdout",
     "output_type": "stream",
     "text": [
      "array('i', [10, 20, 30, 40, 50])\n"
     ]
    },
    {
     "name": "stdin",
     "output_type": "stream",
     "text": [
      "select one of the number 80\n"
     ]
    },
    {
     "name": "stdout",
     "output_type": "stream",
     "text": [
      "invalid selection\n"
     ]
    },
    {
     "name": "stdin",
     "output_type": "stream",
     "text": [
      "select one of the number 50\n"
     ]
    },
    {
     "name": "stdout",
     "output_type": "stream",
     "text": [
      "4\n"
     ]
    }
   ],
   "source": [
    "from array import *\n",
    "# Create an array of 5 numbers\n",
    "nums = array('i', [10, 20, 30, 40, 50])\n",
    "print(nums)\n",
    "while True:\n",
    "    select_num=int(input(\"select one of the number\"))\n",
    "    if select_num in nums:\n",
    "        index=nums.index(select_num)\n",
    "        print(index)\n",
    "        break\n",
    "    else:\n",
    "        print(\"invalid selection\")"
   ]
  },
  {
   "cell_type": "code",
   "execution_count": 6,
   "id": "c6c80d58-e27e-4e99-a52d-c8ffe627b59a",
   "metadata": {},
   "outputs": [
    {
     "name": "stdout",
     "output_type": "stream",
     "text": [
      "29.80\n",
      "98.39\n",
      "85.37\n",
      "74.34\n",
      "35.74\n"
     ]
    },
    {
     "name": "stdin",
     "output_type": "stream",
     "text": [
      "enter a number between 2,5 3\n"
     ]
    },
    {
     "name": "stdout",
     "output_type": "stream",
     "text": [
      "9.93\n",
      "32.80\n",
      "28.46\n",
      "24.78\n",
      "11.91\n"
     ]
    }
   ],
   "source": [
    "from array import *\n",
    "import random\n",
    "nums=array('f',[])\n",
    "for i in range(5):\n",
    "    num=round(random.uniform(10,100),2)\n",
    "    nums.append(num)\n",
    "for num in nums:\n",
    "    print(f\"{num:.2f}\")\n",
    "while True:\n",
    "    user_num=int(input(\"enter a number between 2,5\"))\n",
    "    if 2 <= user_num <= 5:\n",
    "        break\n",
    "    else:\n",
    "        print(\"invalid input\")\n",
    "for num in nums:\n",
    "    result=num/user_num\n",
    "    print(f\"{result:.2f}\")"
   ]
  },
  {
   "cell_type": "markdown",
   "id": "8aa8c7f1-6479-433d-8444-7ded26efec9b",
   "metadata": {},
   "source": [
    "#### 1. Joins two arrays together into one larger array. \n",
    "`user_nums.extend(random_nums)`\n",
    "#### 2. `user_nums = sorted(user_nums)`\n",
    "#### 3. Generate a random floating-point number\n",
    "`random.uniform(a, b)`  \n",
    "Rounds a number to 2 decimal places. \n",
    "`num=round(random.uniform(10,100),2)`\n",
    "\n",
    "array('i', [60, 78, \"Jen\"]) \n",
    "\"Jen\" is string, array expects int\n"
   ]
  },
  {
   "cell_type": "code",
   "execution_count": 7,
   "id": "78e8ade7-7aed-4f44-9739-6828bd8c01a3",
   "metadata": {},
   "outputs": [
    {
     "name": "stdin",
     "output_type": "stream",
     "text": [
      "enter row 1\n",
      "enter column 2\n"
     ]
    },
    {
     "name": "stdout",
     "output_type": "stream",
     "text": [
      "5\n"
     ]
    }
   ],
   "source": [
    "list=[[\"\",0,1,2],[0,2,5,8],[1,3,7,4],[2,1,6,9],[3,4,2,0]]\n",
    "row=int(input(\"enter row\"))\n",
    "column=int(input(\"enter column\"))\n",
    "print(list[row][column])"
   ]
  },
  {
   "cell_type": "code",
   "execution_count": 29,
   "id": "e43abc77-2384-4d68-b170-dfc7a2a4202f",
   "metadata": {},
   "outputs": [
    {
     "name": "stdin",
     "output_type": "stream",
     "text": [
      "enter row 0\n"
     ]
    },
    {
     "name": "stdout",
     "output_type": "stream",
     "text": [
      "['', 0, 1, 2]\n"
     ]
    },
    {
     "name": "stdin",
     "output_type": "stream",
     "text": [
      "enter a new value 1\n"
     ]
    },
    {
     "name": "stdout",
     "output_type": "stream",
     "text": [
      "['', 0, 1, 2, 1]\n"
     ]
    }
   ],
   "source": [
    "list=[[\"\",0,1,2],[0,2,5,8],[1,3,7,4],[2,1,6,9],[3,4,2,0]]\n",
    "row=int(input(\"enter row\"))\n",
    "print(list[row])\n",
    "new_value=int(input(\"enter a new value\"))\n",
    "list[row].append(new_value)\n",
    "print(list[row])"
   ]
  },
  {
   "cell_type": "code",
   "execution_count": 17,
   "id": "f6173d2f-62c2-46e5-a920-e470cea19121",
   "metadata": {},
   "outputs": [
    {
     "name": "stdin",
     "output_type": "stream",
     "text": [
      "enter row 2\n"
     ]
    },
    {
     "name": "stdout",
     "output_type": "stream",
     "text": [
      "[1, 3, 7, 4]\n"
     ]
    },
    {
     "name": "stdin",
     "output_type": "stream",
     "text": [
      "enter column 2\n"
     ]
    },
    {
     "name": "stdout",
     "output_type": "stream",
     "text": [
      "value in the row:7\n"
     ]
    },
    {
     "name": "stdin",
     "output_type": "stream",
     "text": [
      "if you want to change the data Y\n",
      "enter a new_value 8\n"
     ]
    },
    {
     "name": "stdout",
     "output_type": "stream",
     "text": [
      "[1, 3, '8', 4]\n"
     ]
    }
   ],
   "source": [
    "list=[[\"\",0,1,2],[0,2,5,8],[1,3,7,4],[2,1,6,9],[3,4,2,0]]\n",
    "row=int(input(\"enter row\"))\n",
    "print(list[row])\n",
    "col=int(input(\"enter column\"))\n",
    "print(f\"value in the row:{list[row][col]}\")\n",
    "choice=input(\"if you want to change the data\").lower()\n",
    "if choice=='y':\n",
    "    new_value=int(input(\"enter a new_value\"))\n",
    "    list[row][col]=new_value\n",
    "print(list[row])"
   ]
  },
  {
   "cell_type": "code",
   "execution_count": 18,
   "id": "7ebf7bcc-ad2a-4469-a7d0-17f1093fa38a",
   "metadata": {},
   "outputs": [
    {
     "name": "stdin",
     "output_type": "stream",
     "text": [
      "enter name Joe\n",
      "enter age 18\n",
      "enter shoe_size 43.5\n",
      "enter name Luke\n",
      "enter age 20\n",
      "enter shoe_size 43\n",
      "enter name Varsha\n",
      "enter age 22\n",
      "enter shoe_size 36\n",
      "enter name Joey\n",
      "enter age 22\n",
      "enter shoe_size 37.5\n"
     ]
    },
    {
     "name": "stdout",
     "output_type": "stream",
     "text": [
      "Joe 18\n",
      "Luke 20\n",
      "Varsha 22\n",
      "Joey 22\n"
     ]
    }
   ],
   "source": [
    "list=[]\n",
    "for i in range(4):\n",
    "    name=input(\"enter name\")\n",
    "    age=input(\"enter age\")\n",
    "    shoe_size=input(\"enter shoe_size\")\n",
    "    info=[name,age,shoe_size]\n",
    "    list.append(info)\n",
    "for info in list:\n",
    "    print(info[0],info[1])\n",
    "\n",
    "# 'people' is a list of lists (2D list)\n",
    "# Each 'info' is an inner list containing [name, age, shoe_size], remove a person by name\n",
    "remove_name=input(\"enter the name of the person you want to remove\")\n",
    "for info in list:# Iterate over the outer list; each iteration gives one record 'info' (inner list)\n",
    "    if remove_name in info:# Check if remove_name exists in this record (inner list)\n",
    "        list.remove(info)"
   ]
  },
  {
   "cell_type": "markdown",
   "id": "5b330566-99eb-4aa4-9518-52ec86dd8c6e",
   "metadata": {},
   "source": [
    "#### Thought Process\n",
    "1. We need to store information for multiple people.  \n",
    "2. Each person has three pieces of info: name, age, shoe size.  \n",
    "3. A **2D list** is a natural way to organize this:\n",
    "   - The outer list stores all people.\n",
    "   - **Each inner list stores a single person's info**: `[name, age, shoe_size]`.\n",
    "#### Key Code Concept\n",
    "`info = [name, age, shoe_size]`\n",
    "\n",
    "`list.append(info)`"
   ]
  },
  {
   "cell_type": "markdown",
   "id": "9c6405dd-c9fb-4963-9a0e-caa37db4d9e0",
   "metadata": {},
   "source": [
    "s = \"hello\"\n",
    "   s[0] = \"H\"   ❌ TypeError: 'str' object does not support item assignment\n",
    "\n",
    "t = (1, 2, 3)\n",
    "   t[0] = 10    ❌ TypeError: 'tuple' object does not support item assignment\n"
   ]
  },
  {
   "cell_type": "code",
   "execution_count": null,
   "id": "b0c04d0c-3622-4dd5-b96e-a001ead6c552",
   "metadata": {},
   "outputs": [],
   "source": []
  }
 ],
 "metadata": {
  "kernelspec": {
   "display_name": "Python 3 (ipykernel)",
   "language": "python",
   "name": "python3"
  },
  "language_info": {
   "codemirror_mode": {
    "name": "ipython",
    "version": 3
   },
   "file_extension": ".py",
   "mimetype": "text/x-python",
   "name": "python",
   "nbconvert_exporter": "python",
   "pygments_lexer": "ipython3",
   "version": "3.8.20"
  }
 },
 "nbformat": 4,
 "nbformat_minor": 5
}
